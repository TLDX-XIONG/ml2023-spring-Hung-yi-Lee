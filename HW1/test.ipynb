{
 "cells": [
  {
   "cell_type": "code",
   "execution_count": 26,
   "metadata": {},
   "outputs": [],
   "source": [
    "import matplotlib.pyplot as plt\n",
    "import numpy as np\n",
    "import pandas as pd\n",
    "import math\n",
    "import torch\n",
    "import torch.nn as nn\n",
    "from torch.utils.data import DataLoader, Dataset, random_split"
   ]
  },
  {
   "cell_type": "code",
   "execution_count": 10,
   "metadata": {},
   "outputs": [],
   "source": [
    "class My_model(nn.Module):\n",
    "    def __init__(self, input_dim):\n",
    "        super(My_model, self).__init__()\n",
    "        self.layers = nn.Sequential(\n",
    "            nn.Linear(input_dim, 64),\n",
    "            nn.ReLU(),\n",
    "            nn.Linear(64, 16),\n",
    "            nn.ReLU(),\n",
    "            nn.Linear(16, 1)\n",
    "        )\n",
    "    def forward(self, x):\n",
    "        x = self.layers(x)\n",
    "        x = x.squeeze(1)  # (B,1) => (B)\n",
    "        return x"
   ]
  },
  {
   "cell_type": "code",
   "execution_count": 40,
   "metadata": {},
   "outputs": [],
   "source": [
    "class COVID19Dataset(Dataset):\n",
    "    def __init__(self, x, y=None):\n",
    "        if y is None:\n",
    "            self.y = y\n",
    "        else:\n",
    "            self.y = torch.FloatTensor(y)\n",
    "        self.x = torch.FloatTensor(x)\n",
    "    def __getitem__(self, index):\n",
    "        if self.y is None:\n",
    "            return self.x[index]\n",
    "        else:\n",
    "            return self.x[index], self.y[index]\n",
    "    def __len__(self):\n",
    "        return len(self.x)"
   ]
  },
  {
   "cell_type": "code",
   "execution_count": 33,
   "metadata": {},
   "outputs": [],
   "source": [
    "def train_valid_split(train_data, ratio):\n",
    "    valid_size = int(ratio * len(train_data))\n",
    "    train_size = len(train_data) - valid_size\n",
    "    train_set, valid_set = random_split(train_data, [train_size, valid_size])\n",
    "    return np.array(train_set), np.array(valid_set)"
   ]
  },
  {
   "cell_type": "code",
   "execution_count": 86,
   "metadata": {},
   "outputs": [],
   "source": [
    "device = 'cuda' if torch.cuda.is_available() else 'cpu'\n",
    "config = {\n",
    "    'ratio': 0.3,\n",
    "    'epochs': 5000,\n",
    "    'batch_size': 256,\n",
    "    'lr': 1e-4,\n",
    "    'print_per_epoch': 50,\n",
    "    'save_path': './models/model.ckpt'\n",
    "\n",
    "}"
   ]
  },
  {
   "cell_type": "code",
   "execution_count": 41,
   "metadata": {},
   "outputs": [],
   "source": [
    "tr_path = './hw1_dataset/covid_train.csv'\n",
    "te_path = './hw1_dataset/covid_test.csv'\n",
    "\n",
    "train_data = pd.read_csv(tr_path).values\n",
    "test_data = pd.read_csv(te_path).values\n",
    "\n",
    "train_data, valid_data = train_valid_split(train_data, config['ratio'])\n",
    "\n",
    "train_dataset = COVID19Dataset(train_data[:,:-1], train_data[:,-1])\n",
    "valid_dataset = COVID19Dataset(valid_data[:,:-1], valid_data[:,-1])\n",
    "test_dataset = COVID19Dataset(test_data)\n",
    "\n",
    "train_loader = DataLoader(train_dataset, batch_size=config['batch_size'], shuffle=True, pin_memory=True)\n",
    "valid_loader = DataLoader(valid_dataset, batch_size=config['batch_size'], shuffle=True, pin_memory=True)\n",
    "test_loader = DataLoader(test_dataset, batch_size=config['batch_size'], shuffle=True, pin_memory=True)\n"
   ]
  },
  {
   "cell_type": "code",
   "execution_count": 70,
   "metadata": {},
   "outputs": [],
   "source": [
    "def train(train_loader, valid_loader, model, config):\n",
    "    MSEloss = nn.MSELoss(reduce='mean')\n",
    "    optimizer = torch.optim.Adam(model.parameters(), lr=config['lr'], weight_decay=1e-3)\n",
    "\n",
    "    train_record = []\n",
    "    valid_record = []\n",
    "\n",
    "    n_epochs, best_loss = config['epochs'], math.inf\n",
    "\n",
    "    for epoch in range(n_epochs):\n",
    "        model.train()\n",
    "        train_loss = []\n",
    "        valid_loss = []\n",
    "        for x, y in train_loader:\n",
    "            x, y = x.to(device), y.to(device)\n",
    "            optimizer.zero_grad()\n",
    "            pred = model(x)\n",
    "            loss = MSEloss(y, pred)\n",
    "            loss.backward()\n",
    "            optimizer.step()\n",
    "            train_loss.append(loss.detach().item())\n",
    "        \n",
    "        mean_train_loss = sum(train_loss) / len(train_loss)\n",
    "        train_record.append(mean_train_loss)\n",
    "\n",
    "        model.eval()\n",
    "        for x, y in valid_loader:\n",
    "            x, y = x.to(device), y.to(device)\n",
    "            with torch.no_grad():\n",
    "                pred = model(x)\n",
    "                loss = MSEloss(pred, y)\n",
    "                valid_loss.append(loss.item())\n",
    "        mean_valid_loss = sum(valid_loss) / len(valid_loss)\n",
    "        valid_record.append(mean_valid_loss)\n",
    "        if mean_valid_loss < best_loss:\n",
    "            best_loss = mean_valid_loss\n",
    "            torch.save(model.state_dict(), config['save_path'])\n",
    "            # print(f'Saving model with loss {mean_valid_loss:.4f}')\n",
    "\n",
    "\n",
    "        if (epoch + 1) % config['print_per_epoch'] == 0:\n",
    "            print(f'Epoch {epoch+1}/{n_epochs}: Train loss: {mean_train_loss:.4f} Valid loss: {mean_valid_loss:.4f}')\n",
    "    \n",
    "    return train_record, valid_record"
   ]
  },
  {
   "cell_type": "code",
   "execution_count": null,
   "metadata": {},
   "outputs": [],
   "source": [
    "model = My_model(input_dim=train_data.shape[1]-1).to(device)\n",
    "train_record, valid_record = train(train_loader, valid_loader, model, config)"
   ]
  },
  {
   "cell_type": "code",
   "execution_count": 90,
   "metadata": {},
   "outputs": [
    {
     "data": {
      "image/png": "[encoded data removed]",
      "text/plain": [
       "<Figure size 432x288 with 1 Axes>"
      ]
     },
     "metadata": {
      "needs_background": "light"
     },
     "output_type": "display_data"
    }
   ],
   "source": [
    "plt.plot(train_record[200:])\n",
    "plt.plot(valid_record[200:])\n",
    "plt.axis([0,1000,0,2])\n",
    "plt.legend(['train_loss', 'valid_loss'])\n",
    "plt.show()"
   ]
  },
  {
   "cell_type": "code",
   "execution_count": null,
   "metadata": {},
   "outputs": [],
   "source": [
    "train_record"
   ]
  },
  {
   "cell_type": "code",
   "execution_count": null,
   "metadata": {},
   "outputs": [],
   "source": []
  }
 ],
 "metadata": {
  "kernelspec": {
   "display_name": "d2l",
   "language": "python",
   "name": "python3"
  },
  "language_info": {
   "codemirror_mode": {
    "name": "ipython",
    "version": 3
   },
   "file_extension": ".py",
   "mimetype": "text/x-python",
   "name": "python",
   "nbconvert_exporter": "python",
   "pygments_lexer": "ipython3",
   "version": "3.7.8"
  },
  "orig_nbformat": 4
 },
 "nbformat": 4,
 "nbformat_minor": 2
}
