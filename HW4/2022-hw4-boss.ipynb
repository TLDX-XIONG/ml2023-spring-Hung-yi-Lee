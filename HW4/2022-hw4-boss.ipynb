{
 "cells": [
  {
   "cell_type": "markdown",
   "id": "b30bb32e",
   "metadata": {
    "id": "C_jdZ5vHJ4A9",
    "papermill": {
     "duration": 0.021267,
     "end_time": "2022-03-31T05:31:38.582793",
     "exception": false,
     "start_time": "2022-03-31T05:31:38.561526",
     "status": "completed"
    },
    "tags": []
   },
   "source": [
    "# Task description\n",
    "- Classify the speakers of given features.\n",
    "- Main goal: Learn how to use transformer.\n",
    "- Baselines:\n",
    "  - Easy: Run sample code and know how to use transformer.\n",
    "  - Medium: Know how to adjust parameters of transformer.\n",
    "  - Strong: Construct [conformer](https://arxiv.org/abs/2005.08100) which is a variety of transformer. \n",
    "  - Boss: Implement [Self-Attention Pooling](https://arxiv.org/pdf/2008.01077v1.pdf) & [Additive Margin Softmax](https://arxiv.org/pdf/1801.05599.pdf) to further boost the performance.\n",
    "\n",
    "- Other links\n",
    "  - Kaggle: [link](https://www.kaggle.com/t/ac77388c90204a4c8daebeddd40ff916)\n",
    "  - Slide: [link](https://docs.google.com/presentation/d/1HLAj7UUIjZOycDe7DaVLSwJfXVd3bXPOyzSb6Zk3hYU/edit?usp=sharing)\n",
    "  - Data: [link](https://github.com/MachineLearningHW/ML_HW4_Dataset)\n",
    "\n",
    "# Download dataset\n",
    "- Data is [here](https://github.com/MachineLearningHW/ML_HW4_Dataset)"
   ]
  },
  {
   "cell_type": "markdown",
   "id": "043ae5ed",
   "metadata": {
    "id": "LhLNWB-AK2Z5",
    "papermill": {
     "duration": 0.019265,
     "end_time": "2022-03-31T05:31:38.622526",
     "exception": false,
     "start_time": "2022-03-31T05:31:38.603261",
     "status": "completed"
    },
    "tags": []
   },
   "source": [
    "\"\"\"\n",
    "If the links below become inaccessible, please connect TAs.\n",
    "\"\"\"\n",
    "\n",
    "!wget https://github.com/MachineLearningHW/ML_HW4_Dataset/raw/0.0.1/Dataset.tar.gz.partaa\n",
    "!wget https://github.com/MachineLearningHW/ML_HW4_Dataset/raw/0.0.1/Dataset.tar.gz.partab\n",
    "!wget https://github.com/MachineLearningHW/ML_HW4_Dataset/raw/0.0.1/Dataset.tar.gz.partac\n",
    "!wget https://github.com/MachineLearningHW/ML_HW4_Dataset/raw/0.0.1/Dataset.tar.gz.partad\n",
    "\n",
    "!cat Dataset.tar.gz.parta* > Dataset.tar.gz\n",
    "\n",
    "!tar zxvf Dataset.tar.gz"
   ]
  },
  {
   "cell_type": "markdown",
   "id": "d8f21edb",
   "metadata": {
    "id": "ENWVAUDVJtVY",
    "papermill": {
     "duration": 0.019318,
     "end_time": "2022-03-31T05:31:38.661338",
     "exception": false,
     "start_time": "2022-03-31T05:31:38.642020",
     "status": "completed"
    },
    "tags": []
   },
   "source": [
    "## Fix Random Seed"
   ]
  },
  {
   "cell_type": "code",
   "execution_count": 1,
   "id": "a9f60f63",
   "metadata": {
    "execution": {
     "iopub.execute_input": "2022-03-31T05:31:38.714317Z",
     "iopub.status.busy": "2022-03-31T05:31:38.713358Z",
     "iopub.status.idle": "2022-03-31T05:31:40.364049Z",
     "shell.execute_reply": "2022-03-31T05:31:40.363367Z",
     "shell.execute_reply.started": "2022-03-27T13:26:27.19544Z"
    },
    "id": "E6burzCXIyuA",
    "papermill": {
     "duration": 1.683273,
     "end_time": "2022-03-31T05:31:40.364226",
     "exception": false,
     "start_time": "2022-03-31T05:31:38.680953",
     "status": "completed"
    },
    "tags": []
   },
   "outputs": [],
   "source": [
    "import numpy as np\n",
    "import torch\n",
    "import random\n",
    "\n",
    "def set_seed(seed):\n",
    "    np.random.seed(seed)\n",
    "    random.seed(seed)\n",
    "    torch.manual_seed(seed)\n",
    "    if torch.cuda.is_available():\n",
    "        torch.cuda.manual_seed(seed)\n",
    "        torch.cuda.manual_seed_all(seed)\n",
    "    torch.backends.cudnn.benchmark = False\n",
    "    torch.backends.cudnn.deterministic = True\n",
    "\n",
    "set_seed(87)"
   ]
  },
  {
   "cell_type": "markdown",
   "id": "1266f6d5",
   "metadata": {
    "id": "k7dVbxW2LASN",
    "papermill": {
     "duration": 0.018911,
     "end_time": "2022-03-31T05:31:40.401839",
     "exception": false,
     "start_time": "2022-03-31T05:31:40.382928",
     "status": "completed"
    },
    "tags": []
   },
   "source": [
    "# Data\n",
    "\n",
    "## Dataset\n",
    "- Original dataset is [Voxceleb2](https://www.robots.ox.ac.uk/~vgg/data/voxceleb/vox2.html).\n",
    "- The [license](https://creativecommons.org/licenses/by/4.0/) and [complete version](https://www.robots.ox.ac.uk/~vgg/data/voxceleb/files/license.txt) of Voxceleb2.\n",
    "- We randomly select 600 speakers from Voxceleb2.\n",
    "- Then preprocess the raw waveforms into mel-spectrograms.\n",
    "\n",
    "- Args:\n",
    "  - data_dir: The path to the data directory.\n",
    "  - metadata_path: The path to the metadata.\n",
    "  - segment_len: The length of audio segment for training. \n",
    "- The architecture of data directory \\\\\n",
    "  - data directory \\\\\n",
    "  |---- metadata.json \\\\\n",
    "  |---- testdata.json \\\\\n",
    "  |---- mapping.json \\\\\n",
    "  |---- uttr-{random string}.pt \\\\\n",
    "\n",
    "- The information in metadata\n",
    "  - \"n_mels\": The dimention of mel-spectrogram.\n",
    "  - \"speakers\": A dictionary. \n",
    "    - Key: speaker ids.\n",
    "    - value: \"feature_path\" and \"mel_len\"\n",
    "\n",
    "\n",
    "For efficiency, we segment the mel-spectrograms into segments in the traing step."
   ]
  },
  {
   "cell_type": "code",
   "execution_count": 2,
   "id": "2b2cd16d",
   "metadata": {
    "execution": {
     "iopub.execute_input": "2022-03-31T05:31:40.444705Z",
     "iopub.status.busy": "2022-03-31T05:31:40.443708Z",
     "iopub.status.idle": "2022-03-31T05:31:40.457497Z",
     "shell.execute_reply": "2022-03-31T05:31:40.456942Z",
     "shell.execute_reply.started": "2022-03-27T13:26:28.646447Z"
    },
    "id": "KpuGxl4CI2pr",
    "papermill": {
     "duration": 0.036044,
     "end_time": "2022-03-31T05:31:40.457620",
     "exception": false,
     "start_time": "2022-03-31T05:31:40.421576",
     "status": "completed"
    },
    "tags": []
   },
   "outputs": [],
   "source": [
    "import os\n",
    "import json\n",
    "import torch\n",
    "import random\n",
    "from pathlib import Path\n",
    "from torch.utils.data import Dataset\n",
    "from torch.nn.utils.rnn import pad_sequence\n",
    " \n",
    " \n",
    "class myDataset(Dataset):\n",
    "\tdef __init__(self, data_dir, segment_len=192):\n",
    "\t\tself.data_dir = data_dir\n",
    "\t\tself.segment_len = segment_len\n",
    "\t\n",
    "\t\t# Load the mapping from speaker neme to their corresponding id. \n",
    "\t\tmapping_path = Path(data_dir) / \"mapping.json\"\n",
    "\t\tmapping = json.load(mapping_path.open())\n",
    "\t\tself.speaker2id = mapping[\"speaker2id\"]\n",
    "\t\n",
    "\t\t# Load metadata of training data.\n",
    "\t\tmetadata_path = Path(data_dir) / \"metadata.json\"\n",
    "\t\tmetadata = json.load(open(metadata_path))[\"speakers\"]\n",
    "\t\n",
    "\t\t# Get the total number of speaker.\n",
    "\t\tself.speaker_num = len(metadata.keys())\n",
    "\t\tself.data = []\n",
    "\t\tfor speaker in metadata.keys():\n",
    "\t\t\tfor utterances in metadata[speaker]:\n",
    "\t\t\t\tself.data.append([utterances[\"feature_path\"], self.speaker2id[speaker]])\n",
    " \n",
    "\tdef __len__(self):\n",
    "\t\t\treturn len(self.data)\n",
    " \n",
    "\tdef __getitem__(self, index):\n",
    "\t\tfeat_path, speaker = self.data[index]\n",
    "\t\t# Load preprocessed mel-spectrogram.\n",
    "\t\tmel = torch.load(os.path.join(self.data_dir, feat_path))\n",
    "\n",
    "\t\t# Segmemt mel-spectrogram into \"segment_len\" frames.\n",
    "\t\tif len(mel) > self.segment_len:\n",
    "\t\t\t# Randomly get the starting point of the segment.\n",
    "\t\t\tstart = random.randint(0, len(mel) - self.segment_len)\n",
    "\t\t\t# Get a segment with \"segment_len\" frames.\n",
    "\t\t\tmel = torch.FloatTensor(mel[start:start+self.segment_len])\n",
    "\t\telse:\n",
    "\t\t\tmel = torch.FloatTensor(mel)\n",
    "\t\t# Turn the speaker id into long for computing loss later.\n",
    "\t\tspeaker = torch.FloatTensor([speaker]).long()\n",
    "\t\treturn mel, speaker\n",
    " \n",
    "\tdef get_speaker_number(self):\n",
    "\t\treturn self.speaker_num"
   ]
  },
  {
   "cell_type": "markdown",
   "id": "6ecb0633",
   "metadata": {
    "id": "668hverTMlGN",
    "papermill": {
     "duration": 0.019322,
     "end_time": "2022-03-31T05:31:40.496568",
     "exception": false,
     "start_time": "2022-03-31T05:31:40.477246",
     "status": "completed"
    },
    "tags": []
   },
   "source": [
    "## Dataloader\n",
    "- Split dataset into training dataset(90%) and validation dataset(10%).\n",
    "- Create dataloader to iterate the data."
   ]
  },
  {
   "cell_type": "code",
   "execution_count": 3,
   "id": "8dbbf084",
   "metadata": {
    "execution": {
     "iopub.execute_input": "2022-03-31T05:31:40.545363Z",
     "iopub.status.busy": "2022-03-31T05:31:40.544776Z",
     "iopub.status.idle": "2022-03-31T05:31:40.548066Z",
     "shell.execute_reply": "2022-03-31T05:31:40.548529Z",
     "shell.execute_reply.started": "2022-03-27T13:26:28.659383Z"
    },
    "id": "B7c2gZYoJDRS",
    "papermill": {
     "duration": 0.03269,
     "end_time": "2022-03-31T05:31:40.548654",
     "exception": false,
     "start_time": "2022-03-31T05:31:40.515964",
     "status": "completed"
    },
    "tags": []
   },
   "outputs": [],
   "source": [
    "import torch\n",
    "from torch.utils.data import DataLoader, random_split\n",
    "from torch.nn.utils.rnn import pad_sequence\n",
    "\n",
    "\n",
    "def collate_batch(batch):\n",
    "\t# Process features within a batch.\n",
    "\t\"\"\"Collate a batch of data.\"\"\"\n",
    "\tmel, speaker = zip(*batch)\n",
    "\t# Because we train the model batch by batch, we need to pad the features in the same batch to make their lengths the same.\n",
    "\tmel = pad_sequence(mel, batch_first=True, padding_value=-20)    # pad log 10^(-20) which is very small value.\n",
    "\t# mel: (batch size, length, 40)\n",
    "\treturn mel, torch.FloatTensor(speaker).long()\n",
    "\n",
    "\n",
    "def get_dataloader(data_dir, batch_size, n_workers):\n",
    "\t\"\"\"Generate dataloader\"\"\"\n",
    "\tdataset = myDataset(data_dir)\n",
    "\tspeaker_num = dataset.get_speaker_number()\n",
    "\t# Split dataset into training dataset and validation dataset\n",
    "\ttrainlen = int(0.9 * len(dataset))\n",
    "\tlengths = [trainlen, len(dataset) - trainlen]\n",
    "\ttrainset, validset = random_split(dataset, lengths)\n",
    "\n",
    "\ttrain_loader = DataLoader(\n",
    "\t\ttrainset,\n",
    "\t\tbatch_size=batch_size,\n",
    "\t\tshuffle=True,\n",
    "\t\tdrop_last=True,\n",
    "\t\tnum_workers=n_workers,\n",
    "\t\tpin_memory=True,\n",
    "\t\tcollate_fn=collate_batch,\n",
    "\t)\n",
    "\tvalid_loader = DataLoader(\n",
    "\t\tvalidset,\n",
    "\t\tbatch_size=batch_size,\n",
    "\t\tnum_workers=n_workers,\n",
    "\t\tdrop_last=True,\n",
    "\t\tpin_memory=True,\n",
    "\t\tcollate_fn=collate_batch,\n",
    "\t)\n",
    "\n",
    "\treturn train_loader, valid_loader, speaker_num"
   ]
  },
  {
   "cell_type": "markdown",
   "id": "6c6580e0",
   "metadata": {
    "id": "5FOSZYxrMqhc",
    "papermill": {
     "duration": 0.017428,
     "end_time": "2022-03-31T05:31:40.584461",
     "exception": false,
     "start_time": "2022-03-31T05:31:40.567033",
     "status": "completed"
    },
    "tags": []
   },
   "source": [
    "# Model\n",
    "- TransformerEncoderLayer:\n",
    "  - Base transformer encoder layer in [Attention Is All You Need](https://arxiv.org/abs/1706.03762)\n",
    "  - Parameters:\n",
    "    - d_model: the number of expected features of the input (required).\n",
    "\n",
    "    - nhead: the number of heads of the multiheadattention models (required).\n",
    "\n",
    "    - dim_feedforward: the dimension of the feedforward network model (default=2048).\n",
    "\n",
    "    - dropout: the dropout value (default=0.1).\n",
    "\n",
    "    - activation: the activation function of intermediate layer, relu or gelu (default=relu).\n",
    "\n",
    "- TransformerEncoder:\n",
    "  - TransformerEncoder is a stack of N transformer encoder layers\n",
    "  - Parameters:\n",
    "    - encoder_layer: an instance of the TransformerEncoderLayer() class (required).\n",
    "\n",
    "    - num_layers: the number of sub-encoder-layers in the encoder (required).\n",
    "\n",
    "    - norm: the layer normalization component (optional)."
   ]
  },
  {
   "cell_type": "code",
   "execution_count": 4,
   "id": "e1bf82fa",
   "metadata": {
    "execution": {
     "iopub.execute_input": "2022-03-31T05:31:40.638416Z",
     "iopub.status.busy": "2022-03-31T05:31:40.633121Z",
     "iopub.status.idle": "2022-03-31T05:31:49.259659Z",
     "shell.execute_reply": "2022-03-31T05:31:49.260170Z",
     "shell.execute_reply.started": "2022-03-27T13:26:28.673586Z"
    },
    "id": "iXZ5B0EKJGs8",
    "papermill": {
     "duration": 8.657979,
     "end_time": "2022-03-31T05:31:49.260356",
     "exception": false,
     "start_time": "2022-03-31T05:31:40.602377",
     "status": "completed"
    },
    "tags": []
   },
   "outputs": [],
   "source": [
    "import torch\n",
    "import torch.nn as nn\n",
    "import torch.nn.functional as F\n",
    "# !pip install conformer\n",
    "from conformer import ConformerBlock\n",
    "\n",
    "\n",
    "class SelfAttentionPooling(nn.Module):\n",
    "    def __init__(self, input_dim):\n",
    "        super().__init__()\n",
    "        self.W = nn.Linear(input_dim, 1)\n",
    "\t\t\n",
    "    def forward(self, batch_rep):\n",
    "        \"\"\"\n",
    "        input:\n",
    "            batch_rep : size (N, T, H), N: batch size, T: sequence length, H: Hidden dimension\n",
    "      \n",
    "        attention_weight:\n",
    "            att_w : size (N, T, 1)\n",
    "    \n",
    "        return:\n",
    "            utter_rep: size (N, H)\n",
    "        \"\"\"\n",
    "        att_w = F.softmax(self.W(batch_rep).squeeze(-1), dim=-1).unsqueeze(-1)\n",
    "        utter_rep = torch.sum(batch_rep * att_w, dim=1)\n",
    "\n",
    "        return utter_rep\n",
    "\n",
    "\n",
    "class Classifier(nn.Module):\n",
    "\tdef __init__(self, d_model=224, n_spks=600, dropout=0.3):\n",
    "\t\tsuper().__init__()\n",
    "\t\t# Project the dimension of features from that of input into d_model.\n",
    "\t\tself.prenet = nn.Linear(40, d_model)\n",
    "\t\t# TODO:\n",
    "\t\t#   Change Transformer to Conformer.\n",
    "\t\t#   https://arxiv.org/abs/2005.08100\n",
    "\t\t#self.encoder_layer = nn.TransformerEncoderLayer(d_model=d_model, dim_feedforward=d_model*2, nhead=2, dropout=dropout)\n",
    "\t\t#self.encoder = nn.TransformerEncoder(self.encoder_layer, num_layers=3)\n",
    "\t\tself.encoder = ConformerBlock(\n",
    "\t\t\t\tdim = d_model,\n",
    "\t\t\t\tdim_head = 4,\n",
    "\t\t\t\theads = 4,\n",
    "\t\t\t\tff_mult = 4,\n",
    "\t\t\t\tconv_expansion_factor = 2,\n",
    "\t\t\t\tconv_kernel_size = 20,\n",
    "\t\t\t\tattn_dropout = dropout,\n",
    "\t\t\t\tff_dropout = dropout,\n",
    "\t\t\t\tconv_dropout = dropout,\n",
    "\t\t)\n",
    "\n",
    "\t\t# Project the the dimension of features from d_model into speaker nums.\n",
    "\t\tself.sap = SelfAttentionPooling(d_model)\n",
    "\t\tself.pred_layer = nn.Sequential(\n",
    "\t\t\tnn.BatchNorm1d(d_model),\n",
    "\t\t\t#nn.Linear(d_model, d_model),\n",
    "\t\t\t#nn.ReLU(),\n",
    "\t\t\tnn.Linear(d_model, n_spks),\n",
    "\t\t)\n",
    "\n",
    "\tdef forward(self, mels):\n",
    "\t\t\"\"\"\n",
    "\t\targs:\n",
    "\t\t\tmels: (batch size, length, 40)\n",
    "\t\treturn:\n",
    "\t\t\tout: (batch size, n_spks)\n",
    "\t\t\"\"\"\n",
    "\t\t# out: (batch size, length, d_model)\n",
    "\t\tout = self.prenet(mels)\n",
    "\t\t# out: (length, batch size, d_model)\n",
    "\t\tout = out.permute(1, 0, 2)\n",
    "\t\t# The encoder layer expect features in the shape of (length, batch size, d_model).\n",
    "\t\tout = self.encoder(out)\n",
    "\t\t# out: (batch size, length, d_model)\n",
    "\t\tout = out.transpose(0, 1) \n",
    "\t\t# mean pooling\n",
    "\t\t#stats = out.mean(dim=1)\n",
    "\t\tstats = self.sap(out)\n",
    "        \n",
    "\t\t# out: (batch, n_spks)\n",
    "\t\tout = self.pred_layer(stats)\n",
    "\t\treturn out"
   ]
  },
  {
   "cell_type": "code",
   "execution_count": 5,
   "id": "dfffb62e",
   "metadata": {
    "execution": {
     "iopub.execute_input": "2022-03-31T05:31:49.310500Z",
     "iopub.status.busy": "2022-03-31T05:31:49.309656Z",
     "iopub.status.idle": "2022-03-31T05:31:49.311848Z",
     "shell.execute_reply": "2022-03-31T05:31:49.312282Z"
    },
    "papermill": {
     "duration": 0.030929,
     "end_time": "2022-03-31T05:31:49.312418",
     "exception": false,
     "start_time": "2022-03-31T05:31:49.281489",
     "status": "completed"
    },
    "tags": []
   },
   "outputs": [],
   "source": [
    "from torch.autograd import Variable\n",
    "class AMSoftmax(nn.Module):\n",
    "    def __init__(self):\n",
    "        super(AMSoftmax, self).__init__()\n",
    "\n",
    "    def forward(self, input, target, scale=5.0, margin=0.35):\n",
    "        # self.it += 1\n",
    "        cos_theta = input\n",
    "        target = target.view(-1, 1)  # size=(B,1)\n",
    "\n",
    "        index = cos_theta.data * 0.0  # size=(B,Classnum)\n",
    "        index.scatter_(1, target.data.view(-1, 1), 1)\n",
    "        index = index.byte()\n",
    "        index = Variable(index).bool()\n",
    "\n",
    "        output = cos_theta * 1.0  # size=(B,Classnum)\n",
    "        output[index] -= margin\n",
    "        output = output * scale\n",
    "\n",
    "        logpt = F.log_softmax(output, dim=-1)\n",
    "        logpt = logpt.gather(1, target)\n",
    "        logpt = logpt.view(-1)\n",
    "\n",
    "        loss = -1 * logpt\n",
    "        loss = loss.mean()\n",
    "\n",
    "        return loss"
   ]
  },
  {
   "cell_type": "markdown",
   "id": "42e2ec17",
   "metadata": {
    "id": "W7yX8JinM5Ly",
    "papermill": {
     "duration": 0.021828,
     "end_time": "2022-03-31T05:31:49.354058",
     "exception": false,
     "start_time": "2022-03-31T05:31:49.332230",
     "status": "completed"
    },
    "tags": []
   },
   "source": [
    "# Learning rate schedule\n",
    "- For transformer architecture, the design of learning rate schedule is different from that of CNN.\n",
    "- Previous works show that the warmup of learning rate is useful for training models with transformer architectures.\n",
    "- The warmup schedule\n",
    "  - Set learning rate to 0 in the beginning.\n",
    "  - The learning rate increases linearly from 0 to initial learning rate during warmup period."
   ]
  },
  {
   "cell_type": "code",
   "execution_count": 6,
   "id": "0da451b7",
   "metadata": {
    "execution": {
     "iopub.execute_input": "2022-03-31T05:31:49.403092Z",
     "iopub.status.busy": "2022-03-31T05:31:49.402194Z",
     "iopub.status.idle": "2022-03-31T05:31:49.404115Z",
     "shell.execute_reply": "2022-03-31T05:31:49.404522Z",
     "shell.execute_reply.started": "2022-03-27T13:26:39.09407Z"
    },
    "id": "ykt0N1nVJJi2",
    "papermill": {
     "duration": 0.030552,
     "end_time": "2022-03-31T05:31:49.404650",
     "exception": false,
     "start_time": "2022-03-31T05:31:49.374098",
     "status": "completed"
    },
    "tags": []
   },
   "outputs": [],
   "source": [
    "import math\n",
    "\n",
    "import torch\n",
    "from torch.optim import Optimizer\n",
    "from torch.optim.lr_scheduler import LambdaLR\n",
    "\n",
    "\n",
    "def get_cosine_schedule_with_warmup(\n",
    "\toptimizer: Optimizer,\n",
    "\tnum_warmup_steps: int,\n",
    "\tnum_training_steps: int,\n",
    "\tnum_cycles: float = 0.5,\n",
    "\tlast_epoch: int = -1,\n",
    "):\n",
    "\t\"\"\"\n",
    "\tCreate a schedule with a learning rate that decreases following the values of the cosine function between the\n",
    "\tinitial lr set in the optimizer to 0, after a warmup period during which it increases linearly between 0 and the\n",
    "\tinitial lr set in the optimizer.\n",
    "\n",
    "\tArgs:\n",
    "\t\toptimizer (:class:`~torch.optim.Optimizer`):\n",
    "\t\tThe optimizer for which to schedule the learning rate.\n",
    "\t\tnum_warmup_steps (:obj:`int`):\n",
    "\t\tThe number of steps for the warmup phase.\n",
    "\t\tnum_training_steps (:obj:`int`):\n",
    "\t\tThe total number of training steps.\n",
    "\t\tnum_cycles (:obj:`float`, `optional`, defaults to 0.5):\n",
    "\t\tThe number of waves in the cosine schedule (the defaults is to just decrease from the max value to 0\n",
    "\t\tfollowing a half-cosine).\n",
    "\t\tlast_epoch (:obj:`int`, `optional`, defaults to -1):\n",
    "\t\tThe index of the last epoch when resuming training.\n",
    "\n",
    "\tReturn:\n",
    "\t\t:obj:`torch.optim.lr_scheduler.LambdaLR` with the appropriate schedule.\n",
    "\t\"\"\"\n",
    "\tdef lr_lambda(current_step):\n",
    "\t\t# Warmup\n",
    "\t\tif current_step < num_warmup_steps:\n",
    "\t\t\treturn float(current_step) / float(max(1, num_warmup_steps))\n",
    "\t\t# decadence\n",
    "\t\tprogress = float(current_step - num_warmup_steps) / float(\n",
    "\t\t\tmax(1, num_training_steps - num_warmup_steps)\n",
    "\t\t)\n",
    "\t\treturn max(\n",
    "\t\t\t0.0, 0.5 * (1.0 + math.cos(math.pi * float(num_cycles) * 2.0 * progress))\n",
    "\t\t)\n",
    "\n",
    "\treturn LambdaLR(optimizer, lr_lambda, last_epoch)"
   ]
  },
  {
   "cell_type": "markdown",
   "id": "da1448c8",
   "metadata": {
    "id": "-LN2XkteM_uH",
    "papermill": {
     "duration": 0.017691,
     "end_time": "2022-03-31T05:31:49.440689",
     "exception": false,
     "start_time": "2022-03-31T05:31:49.422998",
     "status": "completed"
    },
    "tags": []
   },
   "source": [
    "# Model Function\n",
    "- Model forward function."
   ]
  },
  {
   "cell_type": "code",
   "execution_count": 7,
   "id": "26d22485",
   "metadata": {
    "execution": {
     "iopub.execute_input": "2022-03-31T05:31:49.483683Z",
     "iopub.status.busy": "2022-03-31T05:31:49.482872Z",
     "iopub.status.idle": "2022-03-31T05:31:49.485341Z",
     "shell.execute_reply": "2022-03-31T05:31:49.485750Z",
     "shell.execute_reply.started": "2022-03-27T13:26:39.103803Z"
    },
    "id": "N-rr8529JMz0",
    "papermill": {
     "duration": 0.026633,
     "end_time": "2022-03-31T05:31:49.485884",
     "exception": false,
     "start_time": "2022-03-31T05:31:49.459251",
     "status": "completed"
    },
    "tags": []
   },
   "outputs": [],
   "source": [
    "import torch\n",
    "\n",
    "\n",
    "def model_fn(batch, model, criterion, device):\n",
    "\t\"\"\"Forward a batch through the model.\"\"\"\n",
    "\n",
    "\tmels, labels = batch\n",
    "\tmels = mels.to(device)\n",
    "\tlabels = labels.to(device)\n",
    "\n",
    "\touts = model(mels)\n",
    "\n",
    "\tloss = criterion(outs, labels)\n",
    "\n",
    "\t# Get the speaker id with highest probability.\n",
    "\tpreds = outs.argmax(1)\n",
    "\t# Compute accuracy.\n",
    "\taccuracy = torch.mean((preds == labels).float())\n",
    "\n",
    "\treturn loss, accuracy"
   ]
  },
  {
   "cell_type": "markdown",
   "id": "bbb8e3c9",
   "metadata": {
    "id": "cwM_xyOtNCI2",
    "papermill": {
     "duration": 0.020312,
     "end_time": "2022-03-31T05:31:49.526705",
     "exception": false,
     "start_time": "2022-03-31T05:31:49.506393",
     "status": "completed"
    },
    "tags": []
   },
   "source": [
    "# Validate\n",
    "- Calculate accuracy of the validation set."
   ]
  },
  {
   "cell_type": "code",
   "execution_count": 8,
   "id": "3e6af41d",
   "metadata": {
    "execution": {
     "iopub.execute_input": "2022-03-31T05:31:49.571236Z",
     "iopub.status.busy": "2022-03-31T05:31:49.570608Z",
     "iopub.status.idle": "2022-03-31T05:31:49.572874Z",
     "shell.execute_reply": "2022-03-31T05:31:49.573279Z",
     "shell.execute_reply.started": "2022-03-27T13:26:39.118561Z"
    },
    "id": "YAiv6kpdJRTJ",
    "papermill": {
     "duration": 0.027456,
     "end_time": "2022-03-31T05:31:49.573403",
     "exception": false,
     "start_time": "2022-03-31T05:31:49.545947",
     "status": "completed"
    },
    "tags": []
   },
   "outputs": [],
   "source": [
    "from tqdm import tqdm\n",
    "import torch\n",
    "\n",
    "\n",
    "def valid(dataloader, model, criterion, device): \n",
    "\t\"\"\"Validate on validation set.\"\"\"\n",
    "\n",
    "\tmodel.eval()\n",
    "\trunning_loss = 0.0\n",
    "\trunning_accuracy = 0.0\n",
    "\tpbar = tqdm(total=len(dataloader.dataset), ncols=0, desc=\"Valid\", unit=\" uttr\")\n",
    "\n",
    "\tfor i, batch in enumerate(dataloader):\n",
    "\t\twith torch.no_grad():\n",
    "\t\t\tloss, accuracy = model_fn(batch, model, criterion, device)\n",
    "\t\t\trunning_loss += loss.item()\n",
    "\t\t\trunning_accuracy += accuracy.item()\n",
    "\n",
    "\t\tpbar.update(dataloader.batch_size)\n",
    "\t\tpbar.set_postfix(\n",
    "\t\t\tloss=f\"{running_loss / (i+1):.2f}\",\n",
    "\t\t\taccuracy=f\"{running_accuracy / (i+1):.2f}\",\n",
    "\t\t)\n",
    "\n",
    "\tpbar.close()\n",
    "\tmodel.train()\n",
    "\n",
    "\treturn running_accuracy / len(dataloader)"
   ]
  },
  {
   "cell_type": "markdown",
   "id": "f92a2559",
   "metadata": {
    "id": "g6ne9G-eNEdG",
    "papermill": {
     "duration": 0.01792,
     "end_time": "2022-03-31T05:31:49.609192",
     "exception": false,
     "start_time": "2022-03-31T05:31:49.591272",
     "status": "completed"
    },
    "tags": []
   },
   "source": [
    "# Main function"
   ]
  },
  {
   "cell_type": "code",
   "execution_count": 10,
   "id": "fb6696b2",
   "metadata": {
    "execution": {
     "iopub.execute_input": "2022-03-31T05:31:49.658437Z",
     "iopub.status.busy": "2022-03-31T05:31:49.657645Z",
     "iopub.status.idle": "2022-03-31T08:28:14.867679Z",
     "shell.execute_reply": "2022-03-31T08:28:14.866960Z",
     "shell.execute_reply.started": "2022-03-27T13:26:39.13077Z"
    },
    "id": "Usv9s-CuJSG7",
    "papermill": {
     "duration": 10585.240812,
     "end_time": "2022-03-31T08:28:14.867870",
     "exception": false,
     "start_time": "2022-03-31T05:31:49.627058",
     "status": "completed"
    },
    "tags": []
   },
   "outputs": [
    {
     "name": "stdout",
     "output_type": "stream",
     "text": [
      "[Info]: Use cuda now!\n",
      "[Info]: Finish loading data!\n",
      "Layer: 0 parameter num: 8960\n",
      "Layer: 1 parameter num: 224\n",
      "Layer: 2 parameter num: 200704\n",
      "Layer: 3 parameter num: 896\n",
      "Layer: 4 parameter num: 200704\n",
      "Layer: 5 parameter num: 224\n",
      "Layer: 6 parameter num: 224\n",
      "Layer: 7 parameter num: 224\n",
      "Layer: 8 parameter num: 3584\n",
      "Layer: 9 parameter num: 7168\n",
      "Layer: 10 parameter num: 3584\n",
      "Layer: 11 parameter num: 224\n",
      "Layer: 12 parameter num: 4100\n",
      "Layer: 13 parameter num: 224\n",
      "Layer: 14 parameter num: 224\n",
      "Layer: 15 parameter num: 224\n",
      "Layer: 16 parameter num: 224\n",
      "Layer: 17 parameter num: 200704\n",
      "Layer: 18 parameter num: 896\n",
      "Layer: 19 parameter num: 8960\n",
      "Layer: 20 parameter num: 448\n",
      "Layer: 21 parameter num: 448\n",
      "Layer: 22 parameter num: 448\n",
      "Layer: 23 parameter num: 100352\n",
      "Layer: 24 parameter num: 224\n",
      "Layer: 25 parameter num: 200704\n",
      "Layer: 26 parameter num: 896\n",
      "Layer: 27 parameter num: 200704\n",
      "Layer: 28 parameter num: 224\n",
      "Layer: 29 parameter num: 224\n",
      "Layer: 30 parameter num: 224\n",
      "Layer: 31 parameter num: 224\n",
      "Layer: 32 parameter num: 224\n",
      "Layer: 33 parameter num: 224\n",
      "Layer: 34 parameter num: 1\n",
      "Layer: 35 parameter num: 224\n",
      "Layer: 36 parameter num: 224\n",
      "Layer: 37 parameter num: 134400\n",
      "Layer: 38 parameter num: 600\n",
      "Total params: 1283293\n",
      "[Info]: Finish creating model!\n"
     ]
    },
    {
     "name": "stderr",
     "output_type": "stream",
     "text": [
      "Train: 100% 2000/2000 [03:40<00:00,  9.09 step/s, accuracy=0.59, loss=3.05, step=2000]\n",
      "Valid:  99% 5632/5667 [00:09<00:00, 586.13 uttr/s, accuracy=0.44, loss=4.06]\n",
      "Train: 100% 2000/2000 [03:09<00:00, 10.54 step/s, accuracy=0.75, loss=1.69, step=4000]\n",
      "Valid:  99% 5632/5667 [00:04<00:00, 1156.02 uttr/s, accuracy=0.67, loss=2.52]\n",
      "Train: 100% 2000/2000 [03:15<00:00, 10.22 step/s, accuracy=0.80, loss=1.40, step=6000]\n",
      "Valid:  99% 5632/5667 [00:08<00:00, 664.45 uttr/s, accuracy=0.71, loss=2.31]\n",
      "Train: 100% 2000/2000 [03:16<00:00, 10.17 step/s, accuracy=0.83, loss=1.18, step=8000]\n",
      "Valid:  99% 5632/5667 [00:04<00:00, 1148.71 uttr/s, accuracy=0.75, loss=2.03]\n",
      "Train: 100% 2000/2000 [03:02<00:00, 10.97 step/s, accuracy=0.78, loss=1.25, step=1e+4]\n",
      "Valid:  99% 5632/5667 [00:05<00:00, 1067.14 uttr/s, accuracy=0.76, loss=2.00]\n",
      "Train:   0% 1/2000 [00:00<09:50,  3.39 step/s, accuracy=0.91, loss=0.92, step=1e+4]"
     ]
    },
    {
     "name": "stdout",
     "output_type": "stream",
     "text": [
      "Step 10000, best model saved. (accuracy=0.7646)\n"
     ]
    },
    {
     "name": "stderr",
     "output_type": "stream",
     "text": [
      "Train: 100% 2000/2000 [03:03<00:00, 10.88 step/s, accuracy=0.89, loss=0.85, step=12000]\n",
      "Valid:  99% 5632/5667 [00:04<00:00, 1168.68 uttr/s, accuracy=0.78, loss=1.87]\n",
      "Train: 100% 2000/2000 [03:09<00:00, 10.57 step/s, accuracy=0.88, loss=0.68, step=14000]\n",
      "Valid:  99% 5632/5667 [00:05<00:00, 1126.32 uttr/s, accuracy=0.78, loss=1.92]\n",
      "Train: 100% 2000/2000 [03:16<00:00, 10.16 step/s, accuracy=0.88, loss=0.91, step=16000]\n",
      "Valid:  99% 5632/5667 [00:05<00:00, 983.48 uttr/s, accuracy=0.79, loss=1.87] \n",
      "Train: 100% 2000/2000 [03:03<00:00, 10.89 step/s, accuracy=0.91, loss=0.80, step=18000]\n",
      "Valid:  99% 5632/5667 [00:05<00:00, 1102.28 uttr/s, accuracy=0.80, loss=1.74]\n",
      "Train: 100% 2000/2000 [03:00<00:00, 11.09 step/s, accuracy=0.95, loss=0.32, step=2e+4] \n",
      "Valid:  99% 5632/5667 [00:04<00:00, 1208.19 uttr/s, accuracy=0.81, loss=1.76]\n",
      "Train:   0% 2/2000 [00:00<03:05, 10.78 step/s, accuracy=0.94, loss=0.57, step=2e+4]"
     ]
    },
    {
     "name": "stdout",
     "output_type": "stream",
     "text": [
      "Step 20000, best model saved. (accuracy=0.8120)\n"
     ]
    },
    {
     "name": "stderr",
     "output_type": "stream",
     "text": [
      "Train: 100% 2000/2000 [03:06<00:00, 10.73 step/s, accuracy=0.95, loss=0.20, step=22000]\n",
      "Valid:  99% 5632/5667 [00:05<00:00, 1114.80 uttr/s, accuracy=0.80, loss=1.83]\n",
      "Train: 100% 2000/2000 [03:09<00:00, 10.55 step/s, accuracy=0.88, loss=0.73, step=24000]\n",
      "Valid:  99% 5632/5667 [00:05<00:00, 1068.51 uttr/s, accuracy=0.82, loss=1.70]\n",
      "Train: 100% 2000/2000 [03:10<00:00, 10.49 step/s, accuracy=0.86, loss=0.68, step=26000]\n",
      "Valid:  99% 5632/5667 [00:04<00:00, 1143.01 uttr/s, accuracy=0.82, loss=1.71]\n",
      "Train: 100% 2000/2000 [03:09<00:00, 10.58 step/s, accuracy=0.95, loss=0.27, step=28000]\n",
      "Valid:  99% 5632/5667 [00:04<00:00, 1140.15 uttr/s, accuracy=0.82, loss=1.67]\n",
      "Train: 100% 2000/2000 [03:11<00:00, 10.45 step/s, accuracy=0.94, loss=0.35, step=3e+4] \n",
      "Valid:  99% 5632/5667 [00:04<00:00, 1149.80 uttr/s, accuracy=0.82, loss=1.77]\n",
      "Train:   0% 1/2000 [00:00<03:59,  8.36 step/s, accuracy=0.94, loss=0.35, step=3e+4]"
     ]
    },
    {
     "name": "stdout",
     "output_type": "stream",
     "text": [
      "Step 30000, best model saved. (accuracy=0.8224)\n"
     ]
    },
    {
     "name": "stderr",
     "output_type": "stream",
     "text": [
      "Train: 100% 2000/2000 [03:15<00:00, 10.23 step/s, accuracy=0.95, loss=0.29, step=32000]\n",
      "Valid:  99% 5632/5667 [00:05<00:00, 1103.97 uttr/s, accuracy=0.83, loss=1.74]\n",
      "Train: 100% 2000/2000 [03:08<00:00, 10.60 step/s, accuracy=0.91, loss=0.42, step=34000]\n",
      "Valid:  99% 5632/5667 [00:04<00:00, 1150.21 uttr/s, accuracy=0.83, loss=1.78]\n",
      "Train: 100% 2000/2000 [03:09<00:00, 10.56 step/s, accuracy=0.97, loss=0.26, step=36000]\n",
      "Valid:  99% 5632/5667 [00:04<00:00, 1135.32 uttr/s, accuracy=0.82, loss=1.83]\n",
      "Train: 100% 2000/2000 [03:11<00:00, 10.44 step/s, accuracy=0.98, loss=0.15, step=38000]\n",
      "Valid:  99% 5632/5667 [00:04<00:00, 1144.60 uttr/s, accuracy=0.83, loss=1.67]\n",
      "Train: 100% 2000/2000 [03:13<00:00, 10.32 step/s, accuracy=0.95, loss=0.39, step=4e+4] \n",
      "Valid:  99% 5632/5667 [00:05<00:00, 1029.91 uttr/s, accuracy=0.84, loss=1.64]\n",
      "Train:   0% 1/2000 [00:00<04:13,  7.89 step/s, accuracy=0.98, loss=0.17, step=4e+4]"
     ]
    },
    {
     "name": "stdout",
     "output_type": "stream",
     "text": [
      "Step 40000, best model saved. (accuracy=0.8356)\n"
     ]
    },
    {
     "name": "stderr",
     "output_type": "stream",
     "text": [
      "Train: 100% 2000/2000 [03:10<00:00, 10.51 step/s, accuracy=0.97, loss=0.25, step=42000]\n",
      "Valid:  99% 5632/5667 [00:04<00:00, 1127.66 uttr/s, accuracy=0.83, loss=1.71]\n",
      "Train: 100% 2000/2000 [03:13<00:00, 10.34 step/s, accuracy=0.94, loss=0.40, step=44000]\n",
      "Valid:  99% 5632/5667 [00:04<00:00, 1147.46 uttr/s, accuracy=0.84, loss=1.63]\n",
      "Train: 100% 2000/2000 [03:12<00:00, 10.37 step/s, accuracy=0.97, loss=0.20, step=46000]\n",
      "Valid:  99% 5632/5667 [00:04<00:00, 1142.44 uttr/s, accuracy=0.84, loss=1.64]\n",
      "Train: 100% 2000/2000 [03:14<00:00, 10.29 step/s, accuracy=0.95, loss=0.19, step=48000]\n",
      "Valid:  99% 5632/5667 [00:05<00:00, 1090.76 uttr/s, accuracy=0.84, loss=1.65]\n",
      "Train: 100% 2000/2000 [03:09<00:00, 10.56 step/s, accuracy=0.98, loss=0.15, step=5e+4] \n",
      "Valid:  99% 5632/5667 [00:04<00:00, 1135.78 uttr/s, accuracy=0.84, loss=1.63]\n",
      "Train:   0% 2/2000 [00:00<04:24,  7.57 step/s, accuracy=0.94, loss=0.27, step=5e+4]"
     ]
    },
    {
     "name": "stdout",
     "output_type": "stream",
     "text": [
      "Step 50000, best model saved. (accuracy=0.8441)\n"
     ]
    },
    {
     "name": "stderr",
     "output_type": "stream",
     "text": [
      "Train: 100% 2000/2000 [03:14<00:00, 10.29 step/s, accuracy=0.98, loss=0.09, step=52000]\n",
      "Valid:  99% 5632/5667 [00:05<00:00, 1030.40 uttr/s, accuracy=0.84, loss=1.67]\n",
      "Train: 100% 2000/2000 [03:07<00:00, 10.64 step/s, accuracy=0.91, loss=0.56, step=54000]\n",
      "Valid:  99% 5632/5667 [00:04<00:00, 1150.35 uttr/s, accuracy=0.84, loss=1.70]\n",
      "Train: 100% 2000/2000 [03:07<00:00, 10.69 step/s, accuracy=0.95, loss=0.23, step=56000]\n",
      "Valid:  99% 5632/5667 [00:04<00:00, 1181.30 uttr/s, accuracy=0.84, loss=1.69]\n",
      "Train: 100% 2000/2000 [03:07<00:00, 10.64 step/s, accuracy=0.97, loss=0.36, step=58000]\n",
      "Valid:  99% 5632/5667 [00:04<00:00, 1143.59 uttr/s, accuracy=0.85, loss=1.61]\n",
      "Train: 100% 2000/2000 [03:01<00:00, 11.04 step/s, accuracy=0.97, loss=0.21, step=6e+4] \n",
      "Valid:  99% 5632/5667 [00:04<00:00, 1150.37 uttr/s, accuracy=0.84, loss=1.62]\n",
      "Train:   0% 1/2000 [00:00<04:11,  7.96 step/s, accuracy=0.94, loss=0.40, step=6e+4]"
     ]
    },
    {
     "name": "stdout",
     "output_type": "stream",
     "text": [
      "Step 60000, best model saved. (accuracy=0.8485)\n"
     ]
    },
    {
     "name": "stderr",
     "output_type": "stream",
     "text": [
      "Train: 100% 2000/2000 [03:01<00:00, 10.99 step/s, accuracy=0.97, loss=0.28, step=62000]\n",
      "Valid:  99% 5632/5667 [00:04<00:00, 1173.79 uttr/s, accuracy=0.85, loss=1.65]\n",
      "Train: 100% 2000/2000 [03:03<00:00, 10.90 step/s, accuracy=0.98, loss=0.23, step=64000]\n",
      "Valid:  99% 5632/5667 [00:04<00:00, 1135.44 uttr/s, accuracy=0.85, loss=1.58]\n",
      "Train: 100% 2000/2000 [03:00<00:00, 11.05 step/s, accuracy=0.95, loss=0.26, step=66000]\n",
      "Valid:  99% 5632/5667 [00:04<00:00, 1175.98 uttr/s, accuracy=0.85, loss=1.60]\n",
      "Train: 100% 2000/2000 [03:10<00:00, 10.51 step/s, accuracy=0.98, loss=0.08, step=68000]\n",
      "Valid:  99% 5632/5667 [00:04<00:00, 1162.66 uttr/s, accuracy=0.85, loss=1.59]\n",
      "Train: 100% 2000/2000 [03:01<00:00, 11.03 step/s, accuracy=0.95, loss=0.32, step=7e+4] \n",
      "Valid:  99% 5632/5667 [00:04<00:00, 1174.33 uttr/s, accuracy=0.87, loss=1.50]\n",
      "Train:   0% 1/2000 [00:00<04:11,  7.96 step/s, accuracy=0.97, loss=0.23, step=7e+4]"
     ]
    },
    {
     "name": "stdout",
     "output_type": "stream",
     "text": [
      "Step 70000, best model saved. (accuracy=0.8651)\n"
     ]
    },
    {
     "name": "stderr",
     "output_type": "stream",
     "text": [
      "Train: 100% 2000/2000 [03:04<00:00, 10.82 step/s, accuracy=0.98, loss=0.06, step=72000]\n",
      "Valid:  99% 5632/5667 [00:04<00:00, 1164.25 uttr/s, accuracy=0.86, loss=1.53]\n",
      "Train: 100% 2000/2000 [03:04<00:00, 10.84 step/s, accuracy=0.95, loss=0.36, step=74000]\n",
      "Valid:  99% 5632/5667 [00:05<00:00, 1114.34 uttr/s, accuracy=0.84, loss=1.71]\n",
      "Train: 100% 2000/2000 [03:08<00:00, 10.63 step/s, accuracy=0.95, loss=0.31, step=76000]\n",
      "Valid:  99% 5632/5667 [00:04<00:00, 1186.61 uttr/s, accuracy=0.86, loss=1.60]\n",
      "Train: 100% 2000/2000 [03:00<00:00, 11.06 step/s, accuracy=0.97, loss=0.09, step=78000]\n",
      "Valid:  99% 5632/5667 [00:05<00:00, 1072.57 uttr/s, accuracy=0.87, loss=1.52]\n",
      "Train: 100% 2000/2000 [03:05<00:00, 10.80 step/s, accuracy=1.00, loss=0.02, step=8e+4] \n",
      "Valid:  99% 5632/5667 [00:05<00:00, 1119.12 uttr/s, accuracy=0.86, loss=1.52]\n",
      "Train:   0% 1/2000 [00:00<03:53,  8.57 step/s, accuracy=0.98, loss=0.09, step=8e+4]"
     ]
    },
    {
     "name": "stdout",
     "output_type": "stream",
     "text": [
      "Step 80000, best model saved. (accuracy=0.8684)\n"
     ]
    },
    {
     "name": "stderr",
     "output_type": "stream",
     "text": [
      "Train: 100% 2000/2000 [03:09<00:00, 10.54 step/s, accuracy=0.98, loss=0.22, step=82000]\n",
      "Valid:  99% 5632/5667 [00:05<00:00, 1110.75 uttr/s, accuracy=0.87, loss=1.52]\n",
      "Train: 100% 2000/2000 [02:59<00:00, 11.17 step/s, accuracy=0.97, loss=0.16, step=84000]\n",
      "Valid:  99% 5632/5667 [00:04<00:00, 1194.39 uttr/s, accuracy=0.86, loss=1.58]\n",
      "Train: 100% 2000/2000 [02:58<00:00, 11.18 step/s, accuracy=0.98, loss=0.11, step=86000]\n",
      "Valid:  99% 5632/5667 [00:04<00:00, 1187.60 uttr/s, accuracy=0.86, loss=1.54]\n",
      "Train: 100% 2000/2000 [02:58<00:00, 11.21 step/s, accuracy=0.95, loss=0.14, step=88000]\n",
      "Valid:  99% 5632/5667 [00:04<00:00, 1184.12 uttr/s, accuracy=0.87, loss=1.50]\n",
      "Train: 100% 2000/2000 [02:59<00:00, 11.14 step/s, accuracy=1.00, loss=0.08, step=9e+4] \n",
      "Valid:  99% 5632/5667 [00:04<00:00, 1188.60 uttr/s, accuracy=0.87, loss=1.46]\n",
      "Train:   0% 1/2000 [00:00<03:49,  8.72 step/s, accuracy=1.00, loss=0.03, step=9e+4]"
     ]
    },
    {
     "name": "stdout",
     "output_type": "stream",
     "text": [
      "Step 90000, best model saved. (accuracy=0.8700)\n"
     ]
    },
    {
     "name": "stderr",
     "output_type": "stream",
     "text": [
      "Train: 100% 2000/2000 [02:56<00:00, 11.31 step/s, accuracy=0.98, loss=0.07, step=92000]\n",
      "Valid:  99% 5632/5667 [00:04<00:00, 1183.87 uttr/s, accuracy=0.86, loss=1.64]\n",
      "Train: 100% 2000/2000 [02:58<00:00, 11.19 step/s, accuracy=1.00, loss=0.05, step=94000]\n",
      "Valid:  99% 5632/5667 [00:04<00:00, 1201.25 uttr/s, accuracy=0.87, loss=1.54]\n",
      "Train: 100% 2000/2000 [02:58<00:00, 11.23 step/s, accuracy=1.00, loss=0.03, step=96000]\n",
      "Valid:  99% 5632/5667 [00:04<00:00, 1198.19 uttr/s, accuracy=0.87, loss=1.49]\n",
      "Train: 100% 2000/2000 [02:59<00:00, 11.17 step/s, accuracy=0.98, loss=0.04, step=98000]\n",
      "Valid:  99% 5632/5667 [00:04<00:00, 1218.35 uttr/s, accuracy=0.87, loss=1.53]\n",
      "Train: 100% 2000/2000 [02:59<00:00, 11.16 step/s, accuracy=1.00, loss=0.02, step=1e+5] \n",
      "Valid:  99% 5632/5667 [00:04<00:00, 1184.62 uttr/s, accuracy=0.87, loss=1.48]\n",
      "Train:   0% 2/2000 [00:00<03:36,  9.24 step/s, accuracy=0.98, loss=0.08, step=1e+5]"
     ]
    },
    {
     "name": "stdout",
     "output_type": "stream",
     "text": [
      "Step 100000, best model saved. (accuracy=0.8704)\n"
     ]
    },
    {
     "name": "stderr",
     "output_type": "stream",
     "text": [
      "Train: 100% 2000/2000 [02:57<00:00, 11.25 step/s, accuracy=0.98, loss=0.11, step=102000]\n",
      "Valid:  99% 5632/5667 [00:04<00:00, 1196.66 uttr/s, accuracy=0.87, loss=1.45]\n",
      "Train: 100% 2000/2000 [02:58<00:00, 11.23 step/s, accuracy=1.00, loss=0.05, step=104000]\n",
      "Valid:  99% 5632/5667 [00:04<00:00, 1213.64 uttr/s, accuracy=0.88, loss=1.44]\n",
      "Train: 100% 2000/2000 [02:57<00:00, 11.28 step/s, accuracy=0.98, loss=0.06, step=106000]\n",
      "Valid:  99% 5632/5667 [00:04<00:00, 1213.90 uttr/s, accuracy=0.88, loss=1.49]\n",
      "Train: 100% 2000/2000 [02:58<00:00, 11.20 step/s, accuracy=1.00, loss=0.06, step=108000]\n",
      "Valid:  99% 5632/5667 [00:04<00:00, 1199.97 uttr/s, accuracy=0.87, loss=1.49]\n",
      "Train: 100% 2000/2000 [02:57<00:00, 11.29 step/s, accuracy=0.97, loss=0.25, step=110000]\n",
      "Valid:  99% 5632/5667 [00:04<00:00, 1153.64 uttr/s, accuracy=0.88, loss=1.41]\n",
      "Train:   0% 2/2000 [00:00<04:11,  7.96 step/s, accuracy=0.97, loss=0.11, step=110002]"
     ]
    },
    {
     "name": "stdout",
     "output_type": "stream",
     "text": [
      "Step 110000, best model saved. (accuracy=0.8778)\n"
     ]
    },
    {
     "name": "stderr",
     "output_type": "stream",
     "text": [
      "Train: 100% 2000/2000 [02:56<00:00, 11.35 step/s, accuracy=1.00, loss=0.02, step=112000]\n",
      "Valid:  99% 5632/5667 [00:04<00:00, 1200.23 uttr/s, accuracy=0.87, loss=1.47]\n",
      "Train: 100% 2000/2000 [02:56<00:00, 11.34 step/s, accuracy=0.97, loss=0.14, step=114000]\n",
      "Valid:  99% 5632/5667 [00:04<00:00, 1173.78 uttr/s, accuracy=0.88, loss=1.41]\n",
      "Train: 100% 2000/2000 [03:00<00:00, 11.10 step/s, accuracy=1.00, loss=0.01, step=116000]\n",
      "Valid:  99% 5632/5667 [00:04<00:00, 1207.67 uttr/s, accuracy=0.88, loss=1.47]\n",
      "Train: 100% 2000/2000 [02:58<00:00, 11.23 step/s, accuracy=1.00, loss=0.04, step=118000]\n",
      "Valid:  99% 5632/5667 [00:05<00:00, 1078.02 uttr/s, accuracy=0.88, loss=1.41]\n",
      "Train: 100% 2000/2000 [02:58<00:00, 11.21 step/s, accuracy=0.98, loss=0.10, step=120000]\n",
      "Valid:  99% 5632/5667 [00:04<00:00, 1200.74 uttr/s, accuracy=0.88, loss=1.38]\n",
      "Train:   0% 2/2000 [00:00<03:47,  8.80 step/s, accuracy=0.98, loss=0.06, step=120002]"
     ]
    },
    {
     "name": "stdout",
     "output_type": "stream",
     "text": [
      "Step 120000, best model saved. (accuracy=0.8817)\n"
     ]
    },
    {
     "name": "stderr",
     "output_type": "stream",
     "text": [
      "Train: 100% 2000/2000 [02:56<00:00, 11.35 step/s, accuracy=1.00, loss=0.01, step=122000]\n",
      "Valid:  99% 5632/5667 [00:04<00:00, 1214.42 uttr/s, accuracy=0.88, loss=1.36]\n",
      "Train: 100% 2000/2000 [02:55<00:00, 11.39 step/s, accuracy=1.00, loss=0.01, step=124000]\n",
      "Valid:  99% 5632/5667 [00:04<00:00, 1198.19 uttr/s, accuracy=0.89, loss=1.32]\n",
      "Train: 100% 2000/2000 [02:56<00:00, 11.36 step/s, accuracy=0.98, loss=0.04, step=126000]\n",
      "Valid:  99% 5632/5667 [00:04<00:00, 1188.85 uttr/s, accuracy=0.89, loss=1.34]\n",
      "Train: 100% 2000/2000 [02:56<00:00, 11.34 step/s, accuracy=1.00, loss=0.00, step=128000]\n",
      "Valid:  99% 5632/5667 [00:04<00:00, 1204.58 uttr/s, accuracy=0.88, loss=1.38]\n",
      "Train: 100% 2000/2000 [02:55<00:00, 11.42 step/s, accuracy=1.00, loss=0.02, step=130000]\n",
      "Valid:  99% 5632/5667 [00:04<00:00, 1190.61 uttr/s, accuracy=0.88, loss=1.38]\n",
      "Train:   0% 1/2000 [00:00<04:05,  8.15 step/s, accuracy=0.98, loss=0.06, step=130001]"
     ]
    },
    {
     "name": "stdout",
     "output_type": "stream",
     "text": [
      "Step 130000, best model saved. (accuracy=0.8887)\n"
     ]
    },
    {
     "name": "stderr",
     "output_type": "stream",
     "text": [
      "Train: 100% 2000/2000 [02:56<00:00, 11.34 step/s, accuracy=1.00, loss=0.08, step=132000]\n",
      "Valid:  99% 5632/5667 [00:04<00:00, 1187.35 uttr/s, accuracy=0.88, loss=1.39]\n",
      "Train: 100% 2000/2000 [02:55<00:00, 11.41 step/s, accuracy=1.00, loss=0.03, step=134000]\n",
      "Valid:  99% 5632/5667 [00:04<00:00, 1224.16 uttr/s, accuracy=0.89, loss=1.31]\n",
      "Train: 100% 2000/2000 [02:56<00:00, 11.34 step/s, accuracy=0.98, loss=0.10, step=136000]\n",
      "Valid:  99% 5632/5667 [00:04<00:00, 1187.85 uttr/s, accuracy=0.89, loss=1.32]\n",
      "Train: 100% 2000/2000 [02:55<00:00, 11.39 step/s, accuracy=1.00, loss=0.03, step=138000]\n",
      "Valid:  99% 5632/5667 [00:04<00:00, 1203.04 uttr/s, accuracy=0.89, loss=1.30]\n",
      "Train: 100% 2000/2000 [02:55<00:00, 11.41 step/s, accuracy=1.00, loss=0.00, step=140000]\n",
      "Valid:  99% 5632/5667 [00:04<00:00, 1214.16 uttr/s, accuracy=0.90, loss=1.29]\n",
      "Train:   0% 1/2000 [00:00<03:49,  8.72 step/s, accuracy=0.98, loss=0.07, step=140001]"
     ]
    },
    {
     "name": "stdout",
     "output_type": "stream",
     "text": [
      "Step 140000, best model saved. (accuracy=0.8954)\n"
     ]
    },
    {
     "name": "stderr",
     "output_type": "stream",
     "text": [
      "Train: 100% 2000/2000 [02:55<00:00, 11.42 step/s, accuracy=1.00, loss=0.01, step=142000]\n",
      "Valid:  99% 5632/5667 [00:04<00:00, 1228.96 uttr/s, accuracy=0.89, loss=1.32]\n",
      "Train: 100% 2000/2000 [02:54<00:00, 11.44 step/s, accuracy=0.98, loss=0.05, step=144000]\n",
      "Valid:  99% 5632/5667 [00:04<00:00, 1220.72 uttr/s, accuracy=0.89, loss=1.33]\n",
      "Train: 100% 2000/2000 [02:55<00:00, 11.40 step/s, accuracy=0.98, loss=0.04, step=146000]\n",
      "Valid:  99% 5632/5667 [00:04<00:00, 1173.29 uttr/s, accuracy=0.90, loss=1.25]\n",
      "Train: 100% 2000/2000 [02:55<00:00, 11.42 step/s, accuracy=0.98, loss=0.08, step=148000]\n",
      "Valid:  99% 5632/5667 [00:04<00:00, 1194.13 uttr/s, accuracy=0.90, loss=1.29]\n",
      "Train: 100% 2000/2000 [02:54<00:00, 11.43 step/s, accuracy=1.00, loss=0.06, step=150000]\n",
      "Valid:  99% 5632/5667 [00:04<00:00, 1243.02 uttr/s, accuracy=0.90, loss=1.23]\n",
      "Train:   0% 2/2000 [00:00<03:51,  8.64 step/s, accuracy=1.00, loss=0.03, step=150002]"
     ]
    },
    {
     "name": "stdout",
     "output_type": "stream",
     "text": [
      "Step 150000, best model saved. (accuracy=0.9011)\n"
     ]
    },
    {
     "name": "stderr",
     "output_type": "stream",
     "text": [
      "Train: 100% 2000/2000 [02:54<00:00, 11.45 step/s, accuracy=1.00, loss=0.02, step=152000]\n",
      "Valid:  99% 5632/5667 [00:04<00:00, 1216.51 uttr/s, accuracy=0.90, loss=1.25]\n",
      "Train: 100% 2000/2000 [02:54<00:00, 11.43 step/s, accuracy=0.98, loss=0.07, step=154000]\n",
      "Valid:  99% 5632/5667 [00:04<00:00, 1228.69 uttr/s, accuracy=0.90, loss=1.25]\n",
      "Train: 100% 2000/2000 [02:58<00:00, 11.19 step/s, accuracy=1.00, loss=0.00, step=156000]\n",
      "Valid:  99% 5632/5667 [00:04<00:00, 1230.57 uttr/s, accuracy=0.90, loss=1.26]\n",
      "Train: 100% 2000/2000 [02:55<00:00, 11.40 step/s, accuracy=1.00, loss=0.04, step=158000]\n",
      "Valid:  99% 5632/5667 [00:05<00:00, 1112.72 uttr/s, accuracy=0.90, loss=1.23]\n",
      "Train: 100% 2000/2000 [02:56<00:00, 11.30 step/s, accuracy=1.00, loss=0.00, step=160000]\n",
      "Valid:  99% 5632/5667 [00:04<00:00, 1202.01 uttr/s, accuracy=0.90, loss=1.25]\n",
      "Train:   0% 2/2000 [00:00<04:17,  7.77 step/s, accuracy=0.98, loss=0.13, step=160002]"
     ]
    },
    {
     "name": "stdout",
     "output_type": "stream",
     "text": [
      "Step 160000, best model saved. (accuracy=0.9015)\n"
     ]
    },
    {
     "name": "stderr",
     "output_type": "stream",
     "text": [
      "Train: 100% 2000/2000 [02:54<00:00, 11.43 step/s, accuracy=0.98, loss=0.05, step=162000]\n",
      "Valid:  99% 5632/5667 [00:04<00:00, 1179.67 uttr/s, accuracy=0.91, loss=1.14]\n",
      "Train: 100% 2000/2000 [02:55<00:00, 11.40 step/s, accuracy=1.00, loss=0.01, step=164000]\n",
      "Valid:  99% 5632/5667 [00:04<00:00, 1224.69 uttr/s, accuracy=0.90, loss=1.20]\n",
      "Train: 100% 2000/2000 [02:55<00:00, 11.42 step/s, accuracy=1.00, loss=0.00, step=166000]\n",
      "Valid:  99% 5632/5667 [00:04<00:00, 1207.67 uttr/s, accuracy=0.90, loss=1.22]\n",
      "Train: 100% 2000/2000 [02:54<00:00, 11.48 step/s, accuracy=1.00, loss=0.00, step=168000]\n",
      "Valid:  99% 5632/5667 [00:04<00:00, 1197.17 uttr/s, accuracy=0.90, loss=1.20]\n",
      "Train: 100% 2000/2000 [02:55<00:00, 11.41 step/s, accuracy=1.00, loss=0.01, step=170000]\n",
      "Valid:  99% 5632/5667 [00:04<00:00, 1185.86 uttr/s, accuracy=0.91, loss=1.16]\n",
      "Train:   0% 1/2000 [00:00<04:05,  8.15 step/s, accuracy=1.00, loss=0.00, step=170001]"
     ]
    },
    {
     "name": "stdout",
     "output_type": "stream",
     "text": [
      "Step 170000, best model saved. (accuracy=0.9078)\n"
     ]
    },
    {
     "name": "stderr",
     "output_type": "stream",
     "text": [
      "Train: 100% 2000/2000 [02:53<00:00, 11.50 step/s, accuracy=1.00, loss=0.00, step=172000]\n",
      "Valid:  99% 5632/5667 [00:04<00:00, 1212.34 uttr/s, accuracy=0.91, loss=1.17]\n",
      "Train: 100% 2000/2000 [02:54<00:00, 11.43 step/s, accuracy=1.00, loss=0.00, step=174000]\n",
      "Valid:  99% 5632/5667 [00:04<00:00, 1217.04 uttr/s, accuracy=0.91, loss=1.22]\n",
      "Train: 100% 2000/2000 [02:54<00:00, 11.48 step/s, accuracy=0.98, loss=0.04, step=176000]\n",
      "Valid:  99% 5632/5667 [00:04<00:00, 1191.11 uttr/s, accuracy=0.91, loss=1.17]\n",
      "Train: 100% 2000/2000 [02:53<00:00, 11.50 step/s, accuracy=1.00, loss=0.00, step=178000]\n",
      "Valid:  99% 5632/5667 [00:04<00:00, 1239.75 uttr/s, accuracy=0.90, loss=1.21]\n",
      "Train: 100% 2000/2000 [02:54<00:00, 11.44 step/s, accuracy=1.00, loss=0.00, step=180000]\n",
      "Valid:  99% 5632/5667 [00:04<00:00, 1237.85 uttr/s, accuracy=0.90, loss=1.14]\n",
      "Train:   0% 1/2000 [00:00<04:09,  8.02 step/s, accuracy=1.00, loss=0.00, step=180001]"
     ]
    },
    {
     "name": "stdout",
     "output_type": "stream",
     "text": [
      "Step 180000, best model saved. (accuracy=0.9078)\n"
     ]
    },
    {
     "name": "stderr",
     "output_type": "stream",
     "text": [
      "Train: 100% 2000/2000 [02:53<00:00, 11.52 step/s, accuracy=1.00, loss=0.02, step=182000]\n",
      "Valid:  99% 5632/5667 [00:04<00:00, 1192.87 uttr/s, accuracy=0.90, loss=1.22]\n",
      "Train: 100% 2000/2000 [02:55<00:00, 11.41 step/s, accuracy=1.00, loss=0.01, step=184000]\n",
      "Valid:  99% 5632/5667 [00:04<00:00, 1199.72 uttr/s, accuracy=0.91, loss=1.19]\n",
      "Train: 100% 2000/2000 [02:54<00:00, 11.46 step/s, accuracy=1.00, loss=0.00, step=186000]\n",
      "Valid:  99% 5632/5667 [00:04<00:00, 1212.34 uttr/s, accuracy=0.91, loss=1.13]\n",
      "Train: 100% 2000/2000 [02:54<00:00, 11.44 step/s, accuracy=1.00, loss=0.00, step=188000]\n",
      "Valid:  99% 5632/5667 [00:04<00:00, 1204.83 uttr/s, accuracy=0.91, loss=1.11]\n",
      "Train: 100% 2000/2000 [02:54<00:00, 11.45 step/s, accuracy=1.00, loss=0.01, step=190000]\n",
      "Valid:  99% 5632/5667 [00:04<00:00, 1221.51 uttr/s, accuracy=0.91, loss=1.13]\n",
      "Train:   0% 1/2000 [00:00<03:49,  8.72 step/s, accuracy=1.00, loss=0.03, step=190001]"
     ]
    },
    {
     "name": "stdout",
     "output_type": "stream",
     "text": [
      "Step 190000, best model saved. (accuracy=0.9105)\n"
     ]
    },
    {
     "name": "stderr",
     "output_type": "stream",
     "text": [
      "Train: 100% 2000/2000 [02:53<00:00, 11.50 step/s, accuracy=1.00, loss=0.00, step=192000]\n",
      "Valid:  99% 5632/5667 [00:04<00:00, 1202.27 uttr/s, accuracy=0.91, loss=1.14]\n",
      "Train: 100% 2000/2000 [02:54<00:00, 11.46 step/s, accuracy=1.00, loss=0.00, step=194000]\n",
      "Valid:  99% 5632/5667 [00:04<00:00, 1191.61 uttr/s, accuracy=0.91, loss=1.15]\n",
      "Train: 100% 2000/2000 [02:55<00:00, 11.41 step/s, accuracy=1.00, loss=0.00, step=196000]\n",
      "Valid:  99% 5632/5667 [00:04<00:00, 1222.04 uttr/s, accuracy=0.91, loss=1.17]\n",
      "Train: 100% 2000/2000 [02:56<00:00, 11.35 step/s, accuracy=1.00, loss=0.00, step=198000]\n",
      "Valid:  99% 5632/5667 [00:04<00:00, 1241.66 uttr/s, accuracy=0.91, loss=1.14]\n",
      "Train: 100% 2000/2000 [02:55<00:00, 11.38 step/s, accuracy=1.00, loss=0.01, step=2e+5]  \n",
      "Valid:  99% 5632/5667 [00:05<00:00, 1122.01 uttr/s, accuracy=0.91, loss=1.12]\n",
      "Train:   0% 0/2000 [00:00<?, ? step/s]"
     ]
    },
    {
     "name": "stdout",
     "output_type": "stream",
     "text": [
      "Step 200000, best model saved. (accuracy=0.9128)\n"
     ]
    },
    {
     "name": "stderr",
     "output_type": "stream",
     "text": [
      "\n"
     ]
    }
   ],
   "source": [
    "from tqdm import tqdm\n",
    "\n",
    "import torch\n",
    "import torch.nn as nn\n",
    "from torch.optim import AdamW\n",
    "from torch.utils.data import DataLoader, random_split\n",
    "\n",
    "\n",
    "def parse_args():\n",
    "\t\"\"\"arguments\"\"\"\n",
    "\tconfig = {\n",
    "\t\t\"data_dir\": \"./hw4_dataset/\",\n",
    "\t\t\"save_path\": \"model.ckpt\",\n",
    "\t\t\"batch_size\": 64,\n",
    "\t\t\"n_workers\": 0,\n",
    "\t\t\"valid_steps\": 2000,\n",
    "\t\t\"warmup_steps\": 1000,\n",
    "\t\t\"save_steps\": 10000,\n",
    "\t\t\"total_steps\": 200000,\n",
    "\t}\n",
    "\n",
    "\treturn config\n",
    "\n",
    "\n",
    "def main(\n",
    "\tdata_dir,\n",
    "\tsave_path,\n",
    "\tbatch_size,\n",
    "\tn_workers,\n",
    "\tvalid_steps,\n",
    "\twarmup_steps,\n",
    "\ttotal_steps,\n",
    "\tsave_steps,\n",
    "):\n",
    "\t\"\"\"Main function.\"\"\"\n",
    "\tdevice = torch.device(\"cuda\" if torch.cuda.is_available() else \"cpu\")\n",
    "\tprint(f\"[Info]: Use {device} now!\")\n",
    "\n",
    "\ttrain_loader, valid_loader, speaker_num = get_dataloader(data_dir, batch_size, n_workers)\n",
    "\ttrain_iterator = iter(train_loader)\n",
    "\tprint(f\"[Info]: Finish loading data!\",flush = True)\n",
    "\n",
    "\tmodel = Classifier(n_spks=speaker_num).to(device)\n",
    "\ttotal_params = 0\n",
    "\tfor i, param in enumerate(model.parameters()):\n",
    "\t\tprint('Layer:', i, 'parameter num:', param.numel())\n",
    "\t\ttotal_params += param.numel()\n",
    "\tprint(f'Total params: {total_params}')\n",
    "\tcriterion = AMSoftmax()\n",
    "\toptimizer = AdamW(model.parameters(), lr=1e-3)\n",
    "\tscheduler = get_cosine_schedule_with_warmup(optimizer, warmup_steps, total_steps)\n",
    "\tprint(f\"[Info]: Finish creating model!\",flush = True)\n",
    "\n",
    "\tbest_accuracy = -1.0\n",
    "\tbest_state_dict = None\n",
    "\n",
    "\tpbar = tqdm(total=valid_steps, ncols=0, desc=\"Train\", unit=\" step\")\n",
    "\n",
    "\tfor step in range(total_steps):\n",
    "\t\t# Get data\n",
    "\t\ttry:\n",
    "\t\t\tbatch = next(train_iterator)\n",
    "\t\texcept StopIteration:\n",
    "\t\t\ttrain_iterator = iter(train_loader)\n",
    "\t\t\tbatch = next(train_iterator)\n",
    "\n",
    "\t\tloss, accuracy = model_fn(batch, model, criterion, device)\n",
    "\t\tbatch_loss = loss.item()\n",
    "\t\tbatch_accuracy = accuracy.item()\n",
    "\n",
    "\t\t# Updata model\n",
    "\t\tloss.backward()\n",
    "\t\toptimizer.step()\n",
    "\t\tscheduler.step()\n",
    "\t\toptimizer.zero_grad()\n",
    "\n",
    "\t\t# Log\n",
    "\t\tpbar.update()\n",
    "\t\tpbar.set_postfix(\n",
    "\t\t\tloss=f\"{batch_loss:.2f}\",\n",
    "\t\t\taccuracy=f\"{batch_accuracy:.2f}\",\n",
    "\t\t\tstep=step + 1,\n",
    "\t\t)\n",
    "\n",
    "\t\t# Do validation\n",
    "\t\tif (step + 1) % valid_steps == 0:\n",
    "\t\t\tpbar.close()\n",
    "\n",
    "\t\t\tvalid_accuracy = valid(valid_loader, model, criterion, device)\n",
    "\n",
    "\t\t\t# keep the best model\n",
    "\t\t\tif valid_accuracy > best_accuracy:\n",
    "\t\t\t\tbest_accuracy = valid_accuracy\n",
    "\t\t\t\tbest_state_dict = model.state_dict()\n",
    "\n",
    "\t\t\tpbar = tqdm(total=valid_steps, ncols=0, desc=\"Train\", unit=\" step\")\n",
    "\n",
    "\t\t# Save the best model so far.\n",
    "\t\tif (step + 1) % save_steps == 0 and best_state_dict is not None:\n",
    "\t\t\ttorch.save(best_state_dict, save_path)\n",
    "\t\t\tpbar.write(f\"Step {step + 1}, best model saved. (accuracy={best_accuracy:.4f})\")\n",
    "\n",
    "\tpbar.close()\n",
    "\n",
    "\n",
    "if __name__ == \"__main__\":\n",
    "\tmain(**parse_args())"
   ]
  },
  {
   "cell_type": "markdown",
   "id": "dd8ba549",
   "metadata": {
    "id": "NLatBYAhNNMx",
    "papermill": {
     "duration": 94.337889,
     "end_time": "2022-03-31T08:31:23.842194",
     "exception": false,
     "start_time": "2022-03-31T08:29:49.504305",
     "status": "completed"
    },
    "tags": []
   },
   "source": [
    "# Inference\n",
    "\n",
    "## Dataset of inference"
   ]
  },
  {
   "cell_type": "code",
   "execution_count": 11,
   "id": "3ee3e294",
   "metadata": {
    "execution": {
     "iopub.execute_input": "2022-03-31T08:34:32.509546Z",
     "iopub.status.busy": "2022-03-31T08:34:32.508835Z",
     "iopub.status.idle": "2022-03-31T08:34:32.511711Z",
     "shell.execute_reply": "2022-03-31T08:34:32.511266Z",
     "shell.execute_reply.started": "2022-03-27T14:11:49.943771Z"
    },
    "id": "efS4pCmAJXJH",
    "papermill": {
     "duration": 94.113804,
     "end_time": "2022-03-31T08:34:32.511834",
     "exception": false,
     "start_time": "2022-03-31T08:32:58.398030",
     "status": "completed"
    },
    "tags": []
   },
   "outputs": [],
   "source": [
    "import os\n",
    "import json\n",
    "import torch\n",
    "from pathlib import Path\n",
    "from torch.utils.data import Dataset\n",
    "\n",
    "\n",
    "class InferenceDataset(Dataset):\n",
    "\tdef __init__(self, data_dir):\n",
    "\t\ttestdata_path = Path(data_dir) / \"testdata.json\"\n",
    "\t\tmetadata = json.load(testdata_path.open())\n",
    "\t\tself.data_dir = data_dir\n",
    "\t\tself.data = metadata[\"utterances\"]\n",
    "\n",
    "\tdef __len__(self):\n",
    "\t\treturn len(self.data)\n",
    "\n",
    "\tdef __getitem__(self, index):\n",
    "\t\tutterance = self.data[index]\n",
    "\t\tfeat_path = utterance[\"feature_path\"]\n",
    "\t\tmel = torch.load(os.path.join(self.data_dir, feat_path))\n",
    "\n",
    "\t\treturn feat_path, mel\n",
    "\n",
    "\n",
    "def inference_collate_batch(batch):\n",
    "\t\"\"\"Collate a batch of data.\"\"\"\n",
    "\tfeat_paths, mels = zip(*batch)\n",
    "\n",
    "\treturn feat_paths, torch.stack(mels)"
   ]
  },
  {
   "cell_type": "markdown",
   "id": "c941a044",
   "metadata": {
    "id": "tl0WnYwxNK_S",
    "papermill": {
     "duration": 93.434601,
     "end_time": "2022-03-31T08:37:40.298243",
     "exception": false,
     "start_time": "2022-03-31T08:36:06.863642",
     "status": "completed"
    },
    "tags": []
   },
   "source": [
    "## Main funcrion of Inference"
   ]
  },
  {
   "cell_type": "code",
   "execution_count": 13,
   "id": "728ed1bc",
   "metadata": {
    "execution": {
     "iopub.execute_input": "2022-03-31T08:40:49.255866Z",
     "iopub.status.busy": "2022-03-31T08:40:49.255220Z",
     "iopub.status.idle": "2022-03-31T08:41:26.412040Z",
     "shell.execute_reply": "2022-03-31T08:41:26.412461Z",
     "shell.execute_reply.started": "2022-03-27T14:11:49.957089Z"
    },
    "id": "i8SAbuXEJb2A",
    "papermill": {
     "duration": 131.712075,
     "end_time": "2022-03-31T08:41:26.412653",
     "exception": false,
     "start_time": "2022-03-31T08:39:14.700578",
     "status": "completed"
    },
    "tags": []
   },
   "outputs": [
    {
     "name": "stdout",
     "output_type": "stream",
     "text": [
      "[Info]: Use cuda now!\n",
      "[Info]: Finish loading data!\n",
      "[Info]: Finish creating model!\n"
     ]
    },
    {
     "data": {
      "application/vnd.jupyter.widget-view+json": {
       "model_id": "42e6d4cd7a3140d184a84c3671d41562",
       "version_major": 2,
       "version_minor": 0
      },
      "text/plain": [
       "  0%|          | 0/8000 [00:00<?, ?it/s]"
      ]
     },
     "metadata": {},
     "output_type": "display_data"
    }
   ],
   "source": [
    "import json\n",
    "import csv\n",
    "from pathlib import Path\n",
    "from tqdm.notebook import tqdm\n",
    "\n",
    "import torch\n",
    "from torch.utils.data import DataLoader\n",
    "\n",
    "def parse_args():\n",
    "\t\"\"\"arguments\"\"\"  \n",
    "\tconfig = {\n",
    "\t\t\"data_dir\": \"./hw4_dataset\",\n",
    "\t\t\"model_path\": \"model.ckpt\",\n",
    "\t\t\"output_path\": \"output.csv\",\n",
    "\t}\n",
    "\n",
    "\treturn config\n",
    "\n",
    "\n",
    "def main(\n",
    "\tdata_dir,\n",
    "\tmodel_path,\n",
    "\toutput_path,\n",
    "):\n",
    "\t\"\"\"Main function.\"\"\"\n",
    "\tdevice = torch.device(\"cuda\" if torch.cuda.is_available() else \"cpu\")\n",
    "\tprint(f\"[Info]: Use {device} now!\")\n",
    "\n",
    "\tmapping_path = Path(data_dir) / \"mapping.json\"\n",
    "\tmapping = json.load(mapping_path.open())\n",
    "\n",
    "\tdataset = InferenceDataset(data_dir)\n",
    "\tdataloader = DataLoader(\n",
    "\t\tdataset,\n",
    "\t\tbatch_size=1,\n",
    "\t\tshuffle=False,\n",
    "\t\tdrop_last=False,\n",
    "\t\tnum_workers=0,\n",
    "\t\tcollate_fn=inference_collate_batch,\n",
    "\t)\n",
    "\tprint(f\"[Info]: Finish loading data!\",flush = True)\n",
    "\n",
    "\tspeaker_num = len(mapping[\"id2speaker\"])\n",
    "\tmodel = Classifier(n_spks=speaker_num).to(device)\n",
    "\tmodel.load_state_dict(torch.load(model_path))\n",
    "\tmodel.eval()\n",
    "\tprint(f\"[Info]: Finish creating model!\",flush = True)\n",
    "\n",
    "\tresults = [[\"Id\", \"Category\"]]\n",
    "\tfor feat_paths, mels in tqdm(dataloader):\n",
    "\t\twith torch.no_grad():\n",
    "\t\t\tmels = mels.to(device)\n",
    "\t\t\touts = model(mels)\n",
    "\t\t\tpreds = outs.argmax(1).cpu().numpy()\n",
    "\t\t\tfor feat_path, pred in zip(feat_paths, preds):\n",
    "\t\t\t\tresults.append([feat_path, mapping[\"id2speaker\"][str(pred)]])\n",
    "\n",
    "\twith open(output_path, 'w', newline='') as csvfile:\n",
    "\t\twriter = csv.writer(csvfile)\n",
    "\t\twriter.writerows(results)\n",
    "\n",
    "\n",
    "if __name__ == \"__main__\":\n",
    "\tmain(**parse_args())"
   ]
  },
  {
   "cell_type": "code",
   "execution_count": null,
   "id": "36eea4ed",
   "metadata": {},
   "outputs": [],
   "source": []
  }
 ],
 "metadata": {
  "kernelspec": {
   "display_name": "Python 3",
   "language": "python",
   "name": "python3"
  },
  "language_info": {
   "codemirror_mode": {
    "name": "ipython",
    "version": 3
   },
   "file_extension": ".py",
   "mimetype": "text/x-python",
   "name": "python",
   "nbconvert_exporter": "python",
   "pygments_lexer": "ipython3",
   "version": "3.7.8"
  },
  "papermill": {
   "default_parameters": {},
   "duration": 11492.169367,
   "end_time": "2022-03-31T08:43:02.336877",
   "environment_variables": {},
   "exception": null,
   "input_path": "__notebook__.ipynb",
   "output_path": "__notebook__.ipynb",
   "parameters": {},
   "start_time": "2022-03-31T05:31:30.167510",
   "version": "2.3.3"
  },
  "widgets": {
   "application/vnd.jupyter.widget-state+json": {
    "state": {
     "344785eaa4224bdc8d73aa9a47fdbbd6": {
      "model_module": "@jupyter-widgets/base",
      "model_module_version": "1.2.0",
      "model_name": "LayoutModel",
      "state": {
       "_model_module": "@jupyter-widgets/base",
       "_model_module_version": "1.2.0",
       "_model_name": "LayoutModel",
       "_view_count": null,
       "_view_module": "@jupyter-widgets/base",
       "_view_module_version": "1.2.0",
       "_view_name": "LayoutView",
       "align_content": null,
       "align_items": null,
       "align_self": null,
       "border": null,
       "bottom": null,
       "display": null,
       "flex": null,
       "flex_flow": null,
       "grid_area": null,
       "grid_auto_columns": null,
       "grid_auto_flow": null,
       "grid_auto_rows": null,
       "grid_column": null,
       "grid_gap": null,
       "grid_row": null,
       "grid_template_areas": null,
       "grid_template_columns": null,
       "grid_template_rows": null,
       "height": null,
       "justify_content": null,
       "justify_items": null,
       "left": null,
       "margin": null,
       "max_height": null,
       "max_width": null,
       "min_height": null,
       "min_width": null,
       "object_fit": null,
       "object_position": null,
       "order": null,
       "overflow": null,
       "overflow_x": null,
       "overflow_y": null,
       "padding": null,
       "right": null,
       "top": null,
       "visibility": null,
       "width": null
      }
     },
     "4b6f399fce0641d8ad9634b9ebe466e2": {
      "model_module": "@jupyter-widgets/controls",
      "model_module_version": "1.5.0",
      "model_name": "HTMLModel",
      "state": {
       "_dom_classes": [],
       "_model_module": "@jupyter-widgets/controls",
       "_model_module_version": "1.5.0",
       "_model_name": "HTMLModel",
       "_view_count": null,
       "_view_module": "@jupyter-widgets/controls",
       "_view_module_version": "1.5.0",
       "_view_name": "HTMLView",
       "description": "",
       "description_tooltip": null,
       "layout": "IPY_MODEL_7007e03533294bbbbf02cbe4da5c2353",
       "placeholder": "​",
       "style": "IPY_MODEL_6b20aabe0d35463dafa1e670d29c484e",
       "value": "100%"
      }
     },
     "5fc3eb43babe479c930c70fe76b3aaf0": {
      "model_module": "@jupyter-widgets/controls",
      "model_module_version": "1.5.0",
      "model_name": "ProgressStyleModel",
      "state": {
       "_model_module": "@jupyter-widgets/controls",
       "_model_module_version": "1.5.0",
       "_model_name": "ProgressStyleModel",
       "_view_count": null,
       "_view_module": "@jupyter-widgets/base",
       "_view_module_version": "1.2.0",
       "_view_name": "StyleView",
       "bar_color": null,
       "description_width": ""
      }
     },
     "6b20aabe0d35463dafa1e670d29c484e": {
      "model_module": "@jupyter-widgets/controls",
      "model_module_version": "1.5.0",
      "model_name": "DescriptionStyleModel",
      "state": {
       "_model_module": "@jupyter-widgets/controls",
       "_model_module_version": "1.5.0",
       "_model_name": "DescriptionStyleModel",
       "_view_count": null,
       "_view_module": "@jupyter-widgets/base",
       "_view_module_version": "1.2.0",
       "_view_name": "StyleView",
       "description_width": ""
      }
     },
     "6f76af574ebb4000b6e38c5c08b1cf39": {
      "model_module": "@jupyter-widgets/controls",
      "model_module_version": "1.5.0",
      "model_name": "HTMLModel",
      "state": {
       "_dom_classes": [],
       "_model_module": "@jupyter-widgets/controls",
       "_model_module_version": "1.5.0",
       "_model_name": "HTMLModel",
       "_view_count": null,
       "_view_module": "@jupyter-widgets/controls",
       "_view_module_version": "1.5.0",
       "_view_name": "HTMLView",
       "description": "",
       "description_tooltip": null,
       "layout": "IPY_MODEL_344785eaa4224bdc8d73aa9a47fdbbd6",
       "placeholder": "​",
       "style": "IPY_MODEL_9a3732c3772b42ff9b2e9650f607ef3f",
       "value": " 8000/8000 [00:37&lt;00:00, 225.17it/s]"
      }
     },
     "7007e03533294bbbbf02cbe4da5c2353": {
      "model_module": "@jupyter-widgets/base",
      "model_module_version": "1.2.0",
      "model_name": "LayoutModel",
      "state": {
       "_model_module": "@jupyter-widgets/base",
       "_model_module_version": "1.2.0",
       "_model_name": "LayoutModel",
       "_view_count": null,
       "_view_module": "@jupyter-widgets/base",
       "_view_module_version": "1.2.0",
       "_view_name": "LayoutView",
       "align_content": null,
       "align_items": null,
       "align_self": null,
       "border": null,
       "bottom": null,
       "display": null,
       "flex": null,
       "flex_flow": null,
       "grid_area": null,
       "grid_auto_columns": null,
       "grid_auto_flow": null,
       "grid_auto_rows": null,
       "grid_column": null,
       "grid_gap": null,
       "grid_row": null,
       "grid_template_areas": null,
       "grid_template_columns": null,
       "grid_template_rows": null,
       "height": null,
       "justify_content": null,
       "justify_items": null,
       "left": null,
       "margin": null,
       "max_height": null,
       "max_width": null,
       "min_height": null,
       "min_width": null,
       "object_fit": null,
       "object_position": null,
       "order": null,
       "overflow": null,
       "overflow_x": null,
       "overflow_y": null,
       "padding": null,
       "right": null,
       "top": null,
       "visibility": null,
       "width": null
      }
     },
     "9a3732c3772b42ff9b2e9650f607ef3f": {
      "model_module": "@jupyter-widgets/controls",
      "model_module_version": "1.5.0",
      "model_name": "DescriptionStyleModel",
      "state": {
       "_model_module": "@jupyter-widgets/controls",
       "_model_module_version": "1.5.0",
       "_model_name": "DescriptionStyleModel",
       "_view_count": null,
       "_view_module": "@jupyter-widgets/base",
       "_view_module_version": "1.2.0",
       "_view_name": "StyleView",
       "description_width": ""
      }
     },
     "9e8a38d5f63e4350ad272bb21183e74e": {
      "model_module": "@jupyter-widgets/controls",
      "model_module_version": "1.5.0",
      "model_name": "HBoxModel",
      "state": {
       "_dom_classes": [],
       "_model_module": "@jupyter-widgets/controls",
       "_model_module_version": "1.5.0",
       "_model_name": "HBoxModel",
       "_view_count": null,
       "_view_module": "@jupyter-widgets/controls",
       "_view_module_version": "1.5.0",
       "_view_name": "HBoxView",
       "box_style": "",
       "children": [
        "IPY_MODEL_4b6f399fce0641d8ad9634b9ebe466e2",
        "IPY_MODEL_d71c1ddf6ba74f45a4a07e4c51dcd9ed",
        "IPY_MODEL_6f76af574ebb4000b6e38c5c08b1cf39"
       ],
       "layout": "IPY_MODEL_cb182bdd080c48788d1cd190de1c8305"
      }
     },
     "cb182bdd080c48788d1cd190de1c8305": {
      "model_module": "@jupyter-widgets/base",
      "model_module_version": "1.2.0",
      "model_name": "LayoutModel",
      "state": {
       "_model_module": "@jupyter-widgets/base",
       "_model_module_version": "1.2.0",
       "_model_name": "LayoutModel",
       "_view_count": null,
       "_view_module": "@jupyter-widgets/base",
       "_view_module_version": "1.2.0",
       "_view_name": "LayoutView",
       "align_content": null,
       "align_items": null,
       "align_self": null,
       "border": null,
       "bottom": null,
       "display": null,
       "flex": null,
       "flex_flow": null,
       "grid_area": null,
       "grid_auto_columns": null,
       "grid_auto_flow": null,
       "grid_auto_rows": null,
       "grid_column": null,
       "grid_gap": null,
       "grid_row": null,
       "grid_template_areas": null,
       "grid_template_columns": null,
       "grid_template_rows": null,
       "height": null,
       "justify_content": null,
       "justify_items": null,
       "left": null,
       "margin": null,
       "max_height": null,
       "max_width": null,
       "min_height": null,
       "min_width": null,
       "object_fit": null,
       "object_position": null,
       "order": null,
       "overflow": null,
       "overflow_x": null,
       "overflow_y": null,
       "padding": null,
       "right": null,
       "top": null,
       "visibility": null,
       "width": null
      }
     },
     "d1db583ffc1f4f1686e06e04fdd6107a": {
      "model_module": "@jupyter-widgets/base",
      "model_module_version": "1.2.0",
      "model_name": "LayoutModel",
      "state": {
       "_model_module": "@jupyter-widgets/base",
       "_model_module_version": "1.2.0",
       "_model_name": "LayoutModel",
       "_view_count": null,
       "_view_module": "@jupyter-widgets/base",
       "_view_module_version": "1.2.0",
       "_view_name": "LayoutView",
       "align_content": null,
       "align_items": null,
       "align_self": null,
       "border": null,
       "bottom": null,
       "display": null,
       "flex": null,
       "flex_flow": null,
       "grid_area": null,
       "grid_auto_columns": null,
       "grid_auto_flow": null,
       "grid_auto_rows": null,
       "grid_column": null,
       "grid_gap": null,
       "grid_row": null,
       "grid_template_areas": null,
       "grid_template_columns": null,
       "grid_template_rows": null,
       "height": null,
       "justify_content": null,
       "justify_items": null,
       "left": null,
       "margin": null,
       "max_height": null,
       "max_width": null,
       "min_height": null,
       "min_width": null,
       "object_fit": null,
       "object_position": null,
       "order": null,
       "overflow": null,
       "overflow_x": null,
       "overflow_y": null,
       "padding": null,
       "right": null,
       "top": null,
       "visibility": null,
       "width": null
      }
     },
     "d71c1ddf6ba74f45a4a07e4c51dcd9ed": {
      "model_module": "@jupyter-widgets/controls",
      "model_module_version": "1.5.0",
      "model_name": "FloatProgressModel",
      "state": {
       "_dom_classes": [],
       "_model_module": "@jupyter-widgets/controls",
       "_model_module_version": "1.5.0",
       "_model_name": "FloatProgressModel",
       "_view_count": null,
       "_view_module": "@jupyter-widgets/controls",
       "_view_module_version": "1.5.0",
       "_view_name": "ProgressView",
       "bar_style": "success",
       "description": "",
       "description_tooltip": null,
       "layout": "IPY_MODEL_d1db583ffc1f4f1686e06e04fdd6107a",
       "max": 8000,
       "min": 0,
       "orientation": "horizontal",
       "style": "IPY_MODEL_5fc3eb43babe479c930c70fe76b3aaf0",
       "value": 8000
      }
     }
    },
    "version_major": 2,
    "version_minor": 0
   }
  }
 },
 "nbformat": 4,
 "nbformat_minor": 5
}
