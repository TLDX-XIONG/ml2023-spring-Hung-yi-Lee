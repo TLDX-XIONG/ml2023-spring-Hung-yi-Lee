{
  "cells": [
    {
      "cell_type": "markdown",
      "metadata": {
        "id": "C_jdZ5vHJ4A9"
      },
      "source": [
        "# Task description\n",
        "- Classify the speakers of given features.\n",
        "- Main goal: Learn how to use transformer.\n",
        "- Baselines:\n",
        "  - Easy: Run sample code and know how to use transformer.\n",
        "  - Medium: Know how to adjust parameters of transformer.\n",
        "  - Strong: Construct [conformer](https://arxiv.org/abs/2005.08100) which is a variety of transformer. \n",
        "  - Boss: Implement [Self-Attention Pooling](https://arxiv.org/pdf/2008.01077v1.pdf) & [Additive Margin Softmax](https://arxiv.org/pdf/1801.05599.pdf) to further boost the performance.\n",
        "\n",
        "- Other links\n",
        "  - Competiton: [link](https://www.kaggle.com/t/49ea0c385a974db5919ec67299ba2e6b)\n",
        "  - Slide: [link](https://docs.google.com/presentation/d/1LDAW0GGrC9B6D7dlNdYzQL6D60-iKgFr/edit?usp=sharing&ouid=104280564485377739218&rtpof=true&sd=true)\n",
        "  - Data: [link](https://github.com/googly-mingto/ML2023HW4/releases)\n",
        "\n"
      ]
    },
    {
      "cell_type": "code",
      "execution_count": 9,
      "metadata": {
        "id": "E6burzCXIyuA"
      },
      "outputs": [],
      "source": [
        "import numpy as np\n",
        "import torch\n",
        "import random\n",
        "\n",
        "def set_seed(seed):\n",
        "    np.random.seed(seed)\n",
        "    random.seed(seed)\n",
        "    torch.manual_seed(seed)\n",
        "    if torch.cuda.is_available():\n",
        "        torch.cuda.manual_seed(seed)\n",
        "        torch.cuda.manual_seed_all(seed)\n",
        "    torch.backends.cudnn.benchmark = False\n",
        "    torch.backends.cudnn.deterministic = True\n",
        "\n",
        "set_seed(87)"
      ]
    },
    {
      "cell_type": "markdown",
      "metadata": {
        "id": "k7dVbxW2LASN"
      },
      "source": [
        "# Data\n",
        "\n",
        "## Dataset\n",
        "- Original dataset is [Voxceleb2](https://www.robots.ox.ac.uk/~vgg/data/voxceleb/vox2.html).\n",
        "- The [license](https://creativecommons.org/licenses/by/4.0/) and [complete version](https://www.robots.ox.ac.uk/~vgg/data/voxceleb/files/license.txt) of Voxceleb2.\n",
        "- We randomly select 600 speakers from Voxceleb2.\n",
        "- Then preprocess the raw waveforms into mel-spectrograms.\n",
        "\n",
        "- Args:\n",
        "  - data_dir: The path to the data directory.\n",
        "  - metadata_path: The path to the metadata.\n",
        "  - segment_len: The length of audio segment for training. \n",
        "- The architecture of data directory \\\\\n",
        "  - data directory \\\\\n",
        "  |---- metadata.json \\\\\n",
        "  |---- testdata.json \\\\\n",
        "  |---- mapping.json \\\\\n",
        "  |---- uttr-{random string}.pt \\\\\n",
        "\n",
        "- The information in metadata\n",
        "  - \"n_mels\": The dimention of mel-spectrogram.\n",
        "  - \"speakers\": A dictionary. \n",
        "    - Key: speaker ids.\n",
        "    - value: \"feature_path\" and \"mel_len\"\n",
        "\n",
        "\n",
        "For efficiency, we segment the mel-spectrograms into segments in the traing step."
      ]
    },
    {
      "attachments": {},
      "cell_type": "markdown",
      "metadata": {},
      "source": [
        "## Get Data\n",
        "\n",
        ">**You can download the data directly from [Kaggle](https://www.kaggle.com/competitions/ml2023springhw4/data) and upload it to the workspace, or you can use the Kaggle API below to directly download the data.**"
      ]
    },
    {
      "cell_type": "code",
      "execution_count": null,
      "metadata": {},
      "outputs": [],
      "source": [
        "%pip install kaggle\n",
        "!kaggle competitions download -c ml2023springhw4"
      ]
    },
    {
      "cell_type": "code",
      "execution_count": 10,
      "metadata": {
        "id": "KpuGxl4CI2pr"
      },
      "outputs": [],
      "source": [
        "import os\n",
        "import json\n",
        "import torch\n",
        "import random\n",
        "from pathlib import Path\n",
        "from torch.utils.data import Dataset\n",
        "from torch.nn.utils.rnn import pad_sequence\n",
        " \n",
        " \n",
        "class myDataset(Dataset):\n",
        "\tdef __init__(self, data_dir, segment_len=128):\n",
        "\t\tself.data_dir = data_dir\n",
        "\t\tself.segment_len = segment_len\n",
        "\t\n",
        "\t\t# Load the mapping from speaker neme to their corresponding id. \n",
        "\t\tmapping_path = Path(data_dir) / \"mapping.json\"\n",
        "\t\tmapping = json.load(mapping_path.open())\n",
        "\t\tself.speaker2id = mapping[\"speaker2id\"]\n",
        "\t\n",
        "\t\t# Load metadata of training data.\n",
        "\t\tmetadata_path = Path(data_dir) / \"metadata.json\"\n",
        "\t\tmetadata = json.load(open(metadata_path))[\"speakers\"]\n",
        "\t\n",
        "\t\t# Get the total number of speaker.\n",
        "\t\tself.speaker_num = len(metadata.keys())\n",
        "\t\tself.data = []\n",
        "\t\tfor speaker in metadata.keys():\n",
        "\t\t\tfor utterances in metadata[speaker]:\n",
        "\t\t\t\tself.data.append([utterances[\"feature_path\"], self.speaker2id[speaker]])\n",
        " \n",
        "\tdef __len__(self):\n",
        "\t\t\treturn len(self.data)\n",
        " \n",
        "\tdef __getitem__(self, index):\n",
        "\t\tfeat_path, speaker = self.data[index]\n",
        "\t\t# Load preprocessed mel-spectrogram.\n",
        "\t\tmel = torch.load(os.path.join(self.data_dir, feat_path))\n",
        "\n",
        "\t\t# Segmemt mel-spectrogram into \"segment_len\" frames.\n",
        "\t\tif len(mel) > self.segment_len:\n",
        "\t\t\t# Randomly get the starting point of the segment.\n",
        "\t\t\tstart = random.randint(0, len(mel) - self.segment_len)\n",
        "\t\t\t# Get a segment with \"segment_len\" frames.\n",
        "\t\t\tmel = torch.FloatTensor(mel[start:start+self.segment_len])\n",
        "\t\telse:\n",
        "\t\t\tmel = torch.FloatTensor(mel)\n",
        "\t\t# Turn the speaker id into long for computing loss later.\n",
        "\t\tspeaker = torch.FloatTensor([speaker]).long()\n",
        "\t\treturn mel, speaker\n",
        " \n",
        "\tdef get_speaker_number(self):\n",
        "\t\treturn self.speaker_num"
      ]
    },
    {
      "cell_type": "markdown",
      "metadata": {
        "id": "668hverTMlGN"
      },
      "source": [
        "## Dataloader\n",
        "- Split dataset into training dataset(90%) and validation dataset(10%).\n",
        "- Create dataloader to iterate the data."
      ]
    },
    {
      "cell_type": "code",
      "execution_count": 11,
      "metadata": {
        "id": "B7c2gZYoJDRS"
      },
      "outputs": [],
      "source": [
        "import torch\n",
        "from torch.utils.data import DataLoader, random_split\n",
        "from torch.nn.utils.rnn import pad_sequence\n",
        "\n",
        "\n",
        "def collate_batch(batch):\n",
        "\t# Process features within a batch.\n",
        "\t\"\"\"Collate a batch of data.\"\"\"\n",
        "\tmel, speaker = zip(*batch)\n",
        "\t# Because we train the model batch by batch, we need to pad the features in the same batch to make their lengths the same.\n",
        "\tmel = pad_sequence(mel, batch_first=True, padding_value=-20)    # pad log 10^(-20) which is very small value.\n",
        "\t# mel: (batch size, length, 40)\n",
        "\treturn mel, torch.FloatTensor(speaker).long()\n",
        "\n",
        "\n",
        "def get_dataloader(data_dir, batch_size, n_workers):\n",
        "\t\"\"\"Generate dataloader\"\"\"\n",
        "\tdataset = myDataset(data_dir)\n",
        "\tspeaker_num = dataset.get_speaker_number()\n",
        "\t# Split dataset into training dataset and validation dataset\n",
        "\ttrainlen = int(0.9 * len(dataset))\n",
        "\tlengths = [trainlen, len(dataset) - trainlen]\n",
        "\ttrainset, validset = random_split(dataset, lengths)\n",
        "\n",
        "\ttrain_loader = DataLoader(\n",
        "\t\ttrainset,\n",
        "\t\tbatch_size=batch_size,\n",
        "\t\tshuffle=True,\n",
        "\t\tdrop_last=True,\n",
        "\t\tnum_workers=n_workers,\n",
        "\t\tpin_memory=True,\n",
        "\t\tcollate_fn=collate_batch,\n",
        "\t)\n",
        "\tvalid_loader = DataLoader(\n",
        "\t\tvalidset,\n",
        "\t\tbatch_size=batch_size,\n",
        "\t\tnum_workers=n_workers,\n",
        "\t\tdrop_last=True,\n",
        "\t\tpin_memory=True,\n",
        "\t\tcollate_fn=collate_batch,\n",
        "\t)\n",
        "\n",
        "\treturn train_loader, valid_loader, speaker_num"
      ]
    },
    {
      "cell_type": "markdown",
      "metadata": {
        "id": "5FOSZYxrMqhc"
      },
      "source": [
        "# Model\n",
        "- TransformerEncoderLayer:\n",
        "  - Base transformer encoder layer in [Attention Is All You Need](https://arxiv.org/abs/1706.03762)\n",
        "  - Parameters:\n",
        "    - d_model: the number of expected features of the input (required).\n",
        "\n",
        "    - nhead: the number of heads of the multiheadattention models (required).\n",
        "\n",
        "    - dim_feedforward: the dimension of the feedforward network model (default=2048).\n",
        "\n",
        "    - dropout: the dropout value (default=0.1).\n",
        "\n",
        "    - activation: the activation function of intermediate layer, relu or gelu (default=relu).\n",
        "\n",
        "- TransformerEncoder:\n",
        "  - TransformerEncoder is a stack of N transformer encoder layers\n",
        "  - Parameters:\n",
        "    - encoder_layer: an instance of the TransformerEncoderLayer() class (required).\n",
        "\n",
        "    - num_layers: the number of sub-encoder-layers in the encoder (required).\n",
        "\n",
        "    - norm: the layer normalization component (optional)."
      ]
    },
    {
      "cell_type": "code",
      "execution_count": 48,
      "metadata": {
        "id": "iXZ5B0EKJGs8"
      },
      "outputs": [],
      "source": [
        "import torch\n",
        "import torch.nn as nn\n",
        "import torch.nn.functional as F\n",
        "from conformer import ConformerBlock\n",
        "class SelfAttentionPooling(nn.Module):\n",
        "\t'''\n",
        "\t\tinput: (N, S, D)  N: batch size, S: sequence length, D: embedding dimension\n",
        "\n",
        "\t\tattention_weight: (S, 1) S: sequence length\n",
        "\n",
        "\t\treturn: (N, D) N: batch size, D: embedding dimension\n",
        "\t'''\n",
        "\tdef __init__(self, input_dim):\n",
        "\t\tsuper(SelfAttentionPooling, self).__init__()\n",
        "\t\tself.W = nn.Linear(input_dim, 1)\n",
        "\tdef forward(self, batch_rep):\n",
        "\t\tatt_w = F.softmax(self.W(batch_rep).squeeze(-1), dim=-1).unsqueeze(-1)\n",
        "\t\tutter_rep = torch.sum(batch_rep * att_w, dim=1)\n",
        "\t\treturn utter_rep\n",
        "\n",
        "\t\t\n",
        "\n",
        "class Classifier(nn.Module):\n",
        "\tdef __init__(self, d_model=256, n_spks=600, dropout=0.2):\n",
        "\t\tsuper().__init__()\n",
        "\t\t# Project the dimension of features from that of input into d_model.\n",
        "\t\tself.prenet = nn.Linear(40, d_model)\n",
        "\t\t# TODO:\n",
        "\t\t#   Change Transformer to Conformer.\n",
        "\t\t#   https://arxiv.org/abs/2005.08100\n",
        "\t\t# self.encoder_layer = nn.TransformerEncoderLayer(d_model=d_model, dim_feedforward=d_model*2, nhead=4, dropout=dropout)\n",
        "\t\t# self.encoder = nn.TransformerEncoder(self.encoder_layer, num_layers=4)\n",
        "\t\tself.encoder = ConformerBlock(\n",
        "\t\t\t\tdim = d_model,\n",
        "\t\t\t\tdim_head = 4,\n",
        "\t\t\t\theads = 4,\n",
        "\t\t\t\tff_mult = 4,\n",
        "\t\t\t\tconv_expansion_factor = 2,\n",
        "\t\t\t\tconv_kernel_size = 20,\n",
        "\t\t\t\tattn_dropout = dropout,\n",
        "\t\t\t\tff_dropout = dropout,\n",
        "\t\t\t\tconv_dropout = dropout,\n",
        "\t\t)\n",
        "\t\tself.sap = SelfAttentionPooling(d_model)\n",
        "\t\t# Project the the dimension of features from d_model into speaker nums.\n",
        "\t\tself.pred_layer = nn.Sequential(\n",
        "\t\t\tnn.BatchNorm1d(d_model),\n",
        "\t\t\t# nn.Linear(d_model, d_model),\n",
        "\t\t\t# nn.BatchNorm1d(d_model),\n",
        "\t\t\t# nn.Dropout(dropout),\n",
        "\t\t\t# nn.Sigmoid(),\n",
        "\t\t\tnn.Linear(d_model, n_spks),\n",
        "\t\t)\n",
        "\n",
        "\tdef forward(self, mels):\n",
        "\t\t\"\"\"\n",
        "\t\targs:\n",
        "\t\t\tmels: (batch size, length, 40)\n",
        "\t\treturn:\n",
        "\t\t\tout: (batch size, n_spks)\n",
        "\t\t\"\"\"\n",
        "\t\t# out: (batch size, length, d_model)\n",
        "\t\tout = self.prenet(mels)\n",
        "\t\t# out: (length, batch size, d_model)\n",
        "\t\tout = out.permute(1, 0, 2)\n",
        "\t\t# The encoder layer expect features in the shape of (length, batch size, d_model).\n",
        "\t\t# out = self.encoder_layer(out)\n",
        "\t\tout = self.encoder(out)\n",
        "\t\t# out: (batch size, length, d_model)\n",
        "\t\tout = out.transpose(0, 1)\n",
        "\t\t# mean pooling\n",
        "\t\t# stats = out.mean(dim=1)\n",
        "\t\tstats = self.sap(out)\n",
        "\t\t# out: (batch, n_spks)\n",
        "\t\tout = self.pred_layer(stats)\n",
        "\t\treturn out"
      ]
    },
    {
      "cell_type": "markdown",
      "metadata": {
        "id": "W7yX8JinM5Ly"
      },
      "source": [
        "# Learning rate schedule\n",
        "- For transformer architecture, the design of learning rate schedule is different from that of CNN.\n",
        "- Previous works show that the warmup of learning rate is useful for training models with transformer architectures.\n",
        "- The warmup schedule\n",
        "  - Set learning rate to 0 in the beginning.\n",
        "  - The learning rate increases linearly from 0 to initial learning rate during warmup period."
      ]
    },
    {
      "cell_type": "code",
      "execution_count": 42,
      "metadata": {
        "id": "ykt0N1nVJJi2"
      },
      "outputs": [],
      "source": [
        "import math\n",
        "\n",
        "import torch\n",
        "from torch.optim import Optimizer\n",
        "from torch.optim.lr_scheduler import LambdaLR\n",
        "\n",
        "\n",
        "def get_cosine_schedule_with_warmup(\n",
        "\toptimizer: Optimizer,\n",
        "\tnum_warmup_steps: int,\n",
        "\tnum_training_steps: int,\n",
        "\tnum_cycles: float = 0.5,\n",
        "\tlast_epoch: int = -1,\n",
        "):\n",
        "\t\"\"\"\n",
        "\tCreate a schedule with a learning rate that decreases following the values of the cosine function between the\n",
        "\tinitial lr set in the optimizer to 0, after a warmup period during which it increases linearly between 0 and the\n",
        "\tinitial lr set in the optimizer.\n",
        "\n",
        "\tArgs:\n",
        "\t\toptimizer (:class:`~torch.optim.Optimizer`):\n",
        "\t\tThe optimizer for which to schedule the learning rate.\n",
        "\t\tnum_warmup_steps (:obj:`int`):\n",
        "\t\tThe number of steps for the warmup phase.\n",
        "\t\tnum_training_steps (:obj:`int`):\n",
        "\t\tThe total number of training steps.\n",
        "\t\tnum_cycles (:obj:`float`, `optional`, defaults to 0.5):\n",
        "\t\tThe number of waves in the cosine schedule (the defaults is to just decrease from the max value to 0\n",
        "\t\tfollowing a half-cosine).\n",
        "\t\tlast_epoch (:obj:`int`, `optional`, defaults to -1):\n",
        "\t\tThe index of the last epoch when resuming training.\n",
        "\n",
        "\tReturn:\n",
        "\t\t:obj:`torch.optim.lr_scheduler.LambdaLR` with the appropriate schedule.\n",
        "\t\"\"\"\n",
        "\tdef lr_lambda(current_step):\n",
        "\t\t# Warmup\n",
        "\t\tif current_step < num_warmup_steps:\n",
        "\t\t\treturn float(current_step) / float(max(1, num_warmup_steps))\n",
        "\t\t# decadence\n",
        "\t\tprogress = float(current_step - num_warmup_steps) / float(\n",
        "\t\t\tmax(1, num_training_steps - num_warmup_steps)\n",
        "\t\t)\n",
        "\t\treturn max(\n",
        "\t\t\t0.0, 0.5 * (1.0 + math.cos(math.pi * float(num_cycles) * 2.0 * progress))\n",
        "\t\t)\n",
        "\n",
        "\treturn LambdaLR(optimizer, lr_lambda, last_epoch)"
      ]
    },
    {
      "cell_type": "markdown",
      "metadata": {
        "id": "-LN2XkteM_uH"
      },
      "source": [
        "# Model Function\n",
        "- Model forward function."
      ]
    },
    {
      "cell_type": "code",
      "execution_count": 14,
      "metadata": {
        "id": "N-rr8529JMz0"
      },
      "outputs": [],
      "source": [
        "import torch\n",
        "\n",
        "\n",
        "def model_fn(batch, model, criterion, device):\n",
        "\t\"\"\"Forward a batch through the model.\"\"\"\n",
        "\n",
        "\tmels, labels = batch\n",
        "\tmels = mels.to(device)\n",
        "\tlabels = labels.to(device)\n",
        "\n",
        "\touts = model(mels)\n",
        "\n",
        "\tloss = criterion(outs, labels)\n",
        "\n",
        "\t# Get the speaker id with highest probability.\n",
        "\tpreds = outs.argmax(1)\n",
        "\t# Compute accuracy.\n",
        "\taccuracy = torch.mean((preds == labels).float())\n",
        "\n",
        "\treturn loss, accuracy"
      ]
    },
    {
      "cell_type": "markdown",
      "metadata": {
        "id": "cwM_xyOtNCI2"
      },
      "source": [
        "# Validate\n",
        "- Calculate accuracy of the validation set."
      ]
    },
    {
      "cell_type": "code",
      "execution_count": 31,
      "metadata": {
        "id": "YAiv6kpdJRTJ"
      },
      "outputs": [],
      "source": [
        "from tqdm import tqdm\n",
        "import torch\n",
        "\n",
        "\n",
        "def valid(dataloader, model, criterion, device): \n",
        "\t\"\"\"Validate on validation set.\"\"\"\n",
        "\n",
        "\tmodel.eval()\n",
        "\trunning_loss = 0.0\n",
        "\trunning_accuracy = 0.0\n",
        "\tpbar = tqdm(total=len(dataloader.dataset), ncols=0, desc=\"Valid\", unit=\" uttr\")\n",
        "\n",
        "\tfor i, batch in enumerate(dataloader):\n",
        "\t\twith torch.no_grad():\n",
        "\t\t\tloss, accuracy = model_fn(batch, model, criterion, device)\n",
        "\t\t\trunning_loss += loss.item()\n",
        "\t\t\trunning_accuracy += accuracy.item()\n",
        "\n",
        "\t\tpbar.update(dataloader.batch_size)\n",
        "\t\tpbar.set_postfix(\n",
        "\t\t\tloss=f\"{running_loss / (i+1):.2f}\",\n",
        "\t\t\taccuracy=f\"{running_accuracy / (i+1):.2f}\",\n",
        "\t\t)\n",
        "\n",
        "\tpbar.close()\n",
        "\tmodel.train()\n",
        "\n",
        "\treturn running_accuracy / len(dataloader)"
      ]
    },
    {
      "cell_type": "markdown",
      "metadata": {
        "id": "g6ne9G-eNEdG"
      },
      "source": [
        "# Main function"
      ]
    },
    {
      "cell_type": "code",
      "execution_count": 52,
      "metadata": {
        "colab": {
          "base_uri": "https://localhost:8080/"
        },
        "id": "Usv9s-CuJSG7",
        "outputId": "f4f6a983-3559-4f36-efae-402bbf790473"
      },
      "outputs": [
        {
          "name": "stderr",
          "output_type": "stream",
          "text": [
            "Train:  10% 209/2000 [01:08<09:50,  3.03 step/s, accuracy=0.00, loss=6.63, step=209]"
          ]
        },
        {
          "name": "stdout",
          "output_type": "stream",
          "text": [
            "[Info]: Use cuda now!\n",
            "[Info]: Finish loading data!\n",
            "[Info]: Finish creating model!\n"
          ]
        },
        {
          "name": "stderr",
          "output_type": "stream",
          "text": [
            "\n",
            "Train: 100% 2000/2000 [01:46<00:00, 18.86 step/s, accuracy=0.09, loss=4.87, step=2000]\n",
            "Valid: 100% 5664/5667 [00:07<00:00, 756.21 uttr/s, accuracy=0.13, loss=4.81]\n",
            "Train: 100% 2000/2000 [01:37<00:00, 20.60 step/s, accuracy=0.38, loss=3.61, step=4000]\n",
            "Valid: 100% 5664/5667 [00:05<00:00, 1108.13 uttr/s, accuracy=0.26, loss=3.87]\n",
            "Train: 100% 2000/2000 [01:38<00:00, 20.26 step/s, accuracy=0.50, loss=3.01, step=6000]\n",
            "Valid: 100% 5664/5667 [00:05<00:00, 1099.12 uttr/s, accuracy=0.34, loss=3.30]\n",
            "Train: 100% 2000/2000 [01:41<00:00, 19.62 step/s, accuracy=0.50, loss=2.52, step=8000]\n",
            "Valid: 100% 5664/5667 [00:05<00:00, 1111.38 uttr/s, accuracy=0.40, loss=2.89]\n",
            "Train: 100% 2000/2000 [01:41<00:00, 19.63 step/s, accuracy=0.41, loss=2.91, step=1e+4]\n",
            "Valid: 100% 5664/5667 [00:05<00:00, 1082.15 uttr/s, accuracy=0.45, loss=2.60]\n",
            "                                      \n",
            "Train:   0% 3/2000 [00:00<02:27, 13.55 step/s, accuracy=0.50, loss=2.52, step=1e+4]"
          ]
        },
        {
          "name": "stdout",
          "output_type": "stream",
          "text": [
            "Step 10000, best model saved. (accuracy=0.4476)\n"
          ]
        },
        {
          "name": "stderr",
          "output_type": "stream",
          "text": [
            "Train: 100% 2000/2000 [01:40<00:00, 19.81 step/s, accuracy=0.50, loss=2.34, step=12000]\n",
            "Valid: 100% 5664/5667 [00:05<00:00, 1076.00 uttr/s, accuracy=0.49, loss=2.38]\n",
            "Train: 100% 2000/2000 [01:40<00:00, 19.92 step/s, accuracy=0.56, loss=1.98, step=14000]\n",
            "Valid: 100% 5664/5667 [00:05<00:00, 1106.40 uttr/s, accuracy=0.53, loss=2.17]\n",
            "Train: 100% 2000/2000 [01:40<00:00, 19.82 step/s, accuracy=0.66, loss=1.73, step=16000]\n",
            "Valid: 100% 5664/5667 [00:05<00:00, 1103.82 uttr/s, accuracy=0.56, loss=2.03]\n",
            "Train: 100% 2000/2000 [01:42<00:00, 19.57 step/s, accuracy=0.47, loss=2.16, step=18000]\n",
            "Valid: 100% 5664/5667 [00:05<00:00, 1099.54 uttr/s, accuracy=0.58, loss=1.91]\n",
            "Train: 100% 2000/2000 [01:41<00:00, 19.73 step/s, accuracy=0.81, loss=0.95, step=2e+4] \n",
            "Valid: 100% 5664/5667 [00:05<00:00, 1083.81 uttr/s, accuracy=0.60, loss=1.76]\n",
            "Train:   0% 0/2000 [00:00<?, ? step/s]\n",
            "Train:   0% 3/2000 [00:00<02:24, 13.83 step/s, accuracy=0.66, loss=1.98, step=2e+4]"
          ]
        },
        {
          "name": "stdout",
          "output_type": "stream",
          "text": [
            "Step 20000, best model saved. (accuracy=0.6045)\n"
          ]
        },
        {
          "name": "stderr",
          "output_type": "stream",
          "text": [
            "Train: 100% 2000/2000 [01:40<00:00, 19.88 step/s, accuracy=0.72, loss=1.35, step=22000]\n",
            "Valid: 100% 5664/5667 [00:05<00:00, 1059.34 uttr/s, accuracy=0.63, loss=1.65]\n",
            "Train: 100% 2000/2000 [01:42<00:00, 19.50 step/s, accuracy=0.72, loss=1.06, step=24000]\n",
            "Valid: 100% 5664/5667 [00:05<00:00, 1084.22 uttr/s, accuracy=0.64, loss=1.60]\n",
            "Train: 100% 2000/2000 [01:43<00:00, 19.39 step/s, accuracy=0.62, loss=1.60, step=26000]\n",
            "Valid: 100% 5664/5667 [00:05<00:00, 1090.47 uttr/s, accuracy=0.67, loss=1.52]\n",
            "Train: 100% 2000/2000 [01:41<00:00, 19.62 step/s, accuracy=0.69, loss=1.52, step=28000]\n",
            "Valid: 100% 5664/5667 [00:05<00:00, 1101.46 uttr/s, accuracy=0.68, loss=1.45]\n",
            "Train: 100% 2000/2000 [01:42<00:00, 19.60 step/s, accuracy=0.78, loss=1.02, step=3e+4] \n",
            "Valid: 100% 5664/5667 [00:05<00:00, 1092.77 uttr/s, accuracy=0.69, loss=1.37]\n",
            "Train:   0% 0/2000 [00:00<?, ? step/s]\n",
            "Train:   0% 3/2000 [00:00<02:26, 13.64 step/s, accuracy=0.81, loss=0.98, step=3e+4]"
          ]
        },
        {
          "name": "stdout",
          "output_type": "stream",
          "text": [
            "Step 30000, best model saved. (accuracy=0.6935)\n"
          ]
        },
        {
          "name": "stderr",
          "output_type": "stream",
          "text": [
            "Train: 100% 2000/2000 [01:41<00:00, 19.76 step/s, accuracy=0.84, loss=0.81, step=32000]\n",
            "Valid: 100% 5664/5667 [00:05<00:00, 1072.14 uttr/s, accuracy=0.71, loss=1.31]\n",
            "Train: 100% 2000/2000 [01:40<00:00, 19.81 step/s, accuracy=0.72, loss=1.31, step=34000]\n",
            "Valid: 100% 5664/5667 [00:05<00:00, 1069.12 uttr/s, accuracy=0.72, loss=1.27]\n",
            "Train: 100% 2000/2000 [01:41<00:00, 19.68 step/s, accuracy=0.81, loss=0.96, step=36000]\n",
            "Valid: 100% 5664/5667 [00:05<00:00, 1084.01 uttr/s, accuracy=0.72, loss=1.21]\n",
            "Train: 100% 2000/2000 [01:41<00:00, 19.66 step/s, accuracy=0.78, loss=1.13, step=38000]\n",
            "Valid: 100% 5664/5667 [00:05<00:00, 1087.96 uttr/s, accuracy=0.73, loss=1.21]\n",
            "Train: 100% 2000/2000 [01:41<00:00, 19.67 step/s, accuracy=0.69, loss=1.07, step=4e+4] \n",
            "Valid: 100% 5664/5667 [00:05<00:00, 1079.89 uttr/s, accuracy=0.73, loss=1.18]\n",
            "Train:   0% 0/2000 [00:00<?, ? step/s]\n",
            "Train:   0% 3/2000 [00:00<02:26, 13.64 step/s, accuracy=0.84, loss=0.59, step=4e+4]"
          ]
        },
        {
          "name": "stdout",
          "output_type": "stream",
          "text": [
            "Step 40000, best model saved. (accuracy=0.7345)\n"
          ]
        },
        {
          "name": "stderr",
          "output_type": "stream",
          "text": [
            "Train: 100% 2000/2000 [01:40<00:00, 19.82 step/s, accuracy=0.69, loss=0.98, step=42000]\n",
            "Valid: 100% 5664/5667 [00:05<00:00, 1119.48 uttr/s, accuracy=0.75, loss=1.15]\n",
            "Train: 100% 2000/2000 [01:41<00:00, 19.67 step/s, accuracy=0.81, loss=0.68, step=44000]\n",
            "Valid: 100% 5664/5667 [00:05<00:00, 1100.82 uttr/s, accuracy=0.75, loss=1.11]\n",
            "Train: 100% 2000/2000 [01:42<00:00, 19.49 step/s, accuracy=0.81, loss=0.71, step=46000]\n",
            "Valid: 100% 5664/5667 [00:05<00:00, 1027.94 uttr/s, accuracy=0.76, loss=1.09]\n",
            "Train: 100% 2000/2000 [01:41<00:00, 19.69 step/s, accuracy=0.81, loss=1.20, step=48000]\n",
            "Valid: 100% 5664/5667 [00:05<00:00, 1080.51 uttr/s, accuracy=0.77, loss=1.06]\n",
            "Train: 100% 2000/2000 [01:44<00:00, 19.22 step/s, accuracy=0.91, loss=0.44, step=5e+4] \n",
            "Valid: 100% 5664/5667 [00:05<00:00, 1009.78 uttr/s, accuracy=0.77, loss=1.05]\n",
            "Train:   0% 0/2000 [00:00<?, ? step/s]\n",
            "Train:   0% 3/2000 [00:00<02:31, 13.19 step/s, accuracy=0.84, loss=0.66, step=5e+4]"
          ]
        },
        {
          "name": "stdout",
          "output_type": "stream",
          "text": [
            "Step 50000, best model saved. (accuracy=0.7696)\n"
          ]
        },
        {
          "name": "stderr",
          "output_type": "stream",
          "text": [
            "Train: 100% 2000/2000 [01:42<00:00, 19.54 step/s, accuracy=0.81, loss=0.81, step=52000]\n",
            "Valid: 100% 5664/5667 [00:05<00:00, 1118.38 uttr/s, accuracy=0.77, loss=1.02]\n",
            "Train: 100% 2000/2000 [01:41<00:00, 19.73 step/s, accuracy=0.81, loss=0.72, step=54000]\n",
            "Valid: 100% 5664/5667 [00:05<00:00, 1076.62 uttr/s, accuracy=0.78, loss=1.02]\n",
            "Train: 100% 2000/2000 [01:41<00:00, 19.68 step/s, accuracy=0.84, loss=0.62, step=56000]\n",
            "Valid: 100% 5664/5667 [00:05<00:00, 1095.94 uttr/s, accuracy=0.78, loss=0.98]\n",
            "Train: 100% 2000/2000 [01:41<00:00, 19.61 step/s, accuracy=0.94, loss=0.29, step=58000]\n",
            "Valid: 100% 5664/5667 [00:05<00:00, 1095.94 uttr/s, accuracy=0.79, loss=0.97]\n",
            "Train: 100% 2000/2000 [01:41<00:00, 19.62 step/s, accuracy=0.88, loss=0.44, step=6e+4] \n",
            "Valid: 100% 5664/5667 [00:05<00:00, 1066.91 uttr/s, accuracy=0.79, loss=0.95]\n",
            "Train:   0% 0/2000 [00:00<?, ? step/s]\n",
            "Train:   0% 3/2000 [00:00<02:19, 14.30 step/s, accuracy=0.88, loss=0.52, step=6e+4]"
          ]
        },
        {
          "name": "stdout",
          "output_type": "stream",
          "text": [
            "Step 60000, best model saved. (accuracy=0.7910)\n"
          ]
        },
        {
          "name": "stderr",
          "output_type": "stream",
          "text": [
            "Train: 100% 2000/2000 [01:41<00:00, 19.63 step/s, accuracy=0.75, loss=0.96, step=62000]\n",
            "Valid: 100% 5664/5667 [00:05<00:00, 1085.67 uttr/s, accuracy=0.79, loss=0.94]\n",
            "Train: 100% 2000/2000 [01:40<00:00, 19.91 step/s, accuracy=0.81, loss=0.43, step=64000]\n",
            "Valid: 100% 5664/5667 [00:05<00:00, 1082.15 uttr/s, accuracy=0.79, loss=0.93]\n",
            "Train: 100% 2000/2000 [01:42<00:00, 19.56 step/s, accuracy=0.91, loss=0.47, step=66000]\n",
            "Valid: 100% 5664/5667 [00:05<00:00, 1076.00 uttr/s, accuracy=0.80, loss=0.94]\n",
            "Train: 100% 2000/2000 [01:42<00:00, 19.49 step/s, accuracy=1.00, loss=0.22, step=68000]\n",
            "Valid: 100% 5664/5667 [00:05<00:00, 1079.07 uttr/s, accuracy=0.80, loss=0.92]\n",
            "Train: 100% 2000/2000 [01:44<00:00, 19.21 step/s, accuracy=0.91, loss=0.38, step=7e+4] \n",
            "Valid: 100% 5664/5667 [00:05<00:00, 990.43 uttr/s, accuracy=0.80, loss=0.90] \n",
            "Train:   0% 0/2000 [00:00<?, ? step/s]\n",
            "Train:   0% 2/2000 [00:00<05:00,  6.64 step/s, accuracy=0.94, loss=0.35, step=7e+4]"
          ]
        },
        {
          "name": "stdout",
          "output_type": "stream",
          "text": [
            "Step 70000, best model saved. (accuracy=0.8031)\n"
          ]
        },
        {
          "name": "stderr",
          "output_type": "stream",
          "text": [
            "Train: 100% 2000/2000 [01:45<00:00, 19.04 step/s, accuracy=0.88, loss=0.46, step=72000]\n",
            "Valid: 100% 5664/5667 [00:05<00:00, 1093.41 uttr/s, accuracy=0.80, loss=0.88]\n",
            "Train: 100% 2000/2000 [01:42<00:00, 19.48 step/s, accuracy=0.88, loss=0.35, step=74000]\n",
            "Valid: 100% 5664/5667 [00:05<00:00, 1086.50 uttr/s, accuracy=0.80, loss=0.90]\n",
            "Train: 100% 2000/2000 [01:42<00:00, 19.59 step/s, accuracy=0.91, loss=0.29, step=76000]\n",
            "Valid: 100% 5664/5667 [00:05<00:00, 1091.30 uttr/s, accuracy=0.81, loss=0.86]\n",
            "Train: 100% 2000/2000 [01:41<00:00, 19.63 step/s, accuracy=0.88, loss=0.81, step=78000]\n",
            "Valid: 100% 5664/5667 [00:05<00:00, 1081.33 uttr/s, accuracy=0.81, loss=0.86]\n",
            "Train: 100% 2000/2000 [01:41<00:00, 19.73 step/s, accuracy=0.88, loss=0.31, step=8e+4] \n",
            "Valid: 100% 5664/5667 [00:05<00:00, 1047.23 uttr/s, accuracy=0.82, loss=0.84]\n",
            "Train:   0% 0/2000 [00:00<?, ? step/s]\n",
            "Train:   0% 3/2000 [00:00<02:22, 14.02 step/s, accuracy=0.97, loss=0.25, step=8e+4] "
          ]
        },
        {
          "name": "stdout",
          "output_type": "stream",
          "text": [
            "Step 80000, best model saved. (accuracy=0.8160)\n"
          ]
        },
        {
          "name": "stderr",
          "output_type": "stream",
          "text": [
            "Train: 100% 2000/2000 [01:41<00:00, 19.65 step/s, accuracy=0.91, loss=0.49, step=82000]\n",
            "Valid: 100% 5664/5667 [00:05<00:00, 1079.48 uttr/s, accuracy=0.81, loss=0.85]\n",
            "Train: 100% 2000/2000 [01:42<00:00, 19.57 step/s, accuracy=0.91, loss=0.34, step=84000]\n",
            "Valid: 100% 5664/5667 [00:05<00:00, 1077.43 uttr/s, accuracy=0.82, loss=0.86]\n",
            "Train: 100% 2000/2000 [01:41<00:00, 19.77 step/s, accuracy=0.81, loss=0.69, step=86000]\n",
            "Valid: 100% 5664/5667 [00:05<00:00, 1086.09 uttr/s, accuracy=0.83, loss=0.83]\n",
            "Train: 100% 2000/2000 [01:41<00:00, 19.74 step/s, accuracy=0.91, loss=0.24, step=88000]\n",
            "Valid: 100% 5664/5667 [00:05<00:00, 1085.30 uttr/s, accuracy=0.82, loss=0.83]\n",
            "Train: 100% 2000/2000 [01:42<00:00, 19.60 step/s, accuracy=0.94, loss=0.24, step=9e+4] \n",
            "Valid: 100% 5664/5667 [00:05<00:00, 1091.09 uttr/s, accuracy=0.82, loss=0.85]\n",
            "Train:   0% 0/2000 [00:00<?, ? step/s]\n",
            "Train:   0% 3/2000 [00:00<02:37, 12.69 step/s, accuracy=0.91, loss=0.37, step=9e+4] "
          ]
        },
        {
          "name": "stdout",
          "output_type": "stream",
          "text": [
            "Step 90000, best model saved. (accuracy=0.8256)\n"
          ]
        },
        {
          "name": "stderr",
          "output_type": "stream",
          "text": [
            "Train: 100% 2000/2000 [01:41<00:00, 19.72 step/s, accuracy=0.88, loss=0.36, step=92000]\n",
            "Valid: 100% 5664/5667 [00:05<00:00, 1098.48 uttr/s, accuracy=0.82, loss=0.84]\n",
            "Train: 100% 2000/2000 [01:52<00:00, 17.71 step/s, accuracy=0.84, loss=0.49, step=94000]\n",
            "Valid: 100% 5664/5667 [00:06<00:00, 937.31 uttr/s, accuracy=0.82, loss=0.80] \n",
            "Train: 100% 2000/2000 [01:46<00:00, 18.86 step/s, accuracy=0.88, loss=0.40, step=96000]\n",
            "Valid: 100% 5664/5667 [00:05<00:00, 1108.78 uttr/s, accuracy=0.83, loss=0.81]\n",
            "Train: 100% 2000/2000 [01:41<00:00, 19.68 step/s, accuracy=0.94, loss=0.41, step=98000]\n",
            "Valid: 100% 5664/5667 [00:05<00:00, 1076.21 uttr/s, accuracy=0.83, loss=0.82]\n",
            "Train: 100% 2000/2000 [01:40<00:00, 19.85 step/s, accuracy=0.94, loss=0.27, step=1e+5] \n",
            "Valid: 100% 5664/5667 [00:05<00:00, 1053.32 uttr/s, accuracy=0.83, loss=0.77]\n",
            "Train:   0% 0/2000 [00:00<?, ? step/s]\n",
            "Train:   0% 3/2000 [00:00<02:31, 13.19 step/s, accuracy=1.00, loss=0.21, step=1e+5] "
          ]
        },
        {
          "name": "stdout",
          "output_type": "stream",
          "text": [
            "Step 100000, best model saved. (accuracy=0.8339)\n"
          ]
        },
        {
          "name": "stderr",
          "output_type": "stream",
          "text": [
            "Train: 100% 2000/2000 [01:41<00:00, 19.67 step/s, accuracy=0.88, loss=0.54, step=102000]\n",
            "Valid: 100% 5664/5667 [00:05<00:00, 1071.94 uttr/s, accuracy=0.84, loss=0.77]\n",
            "Train: 100% 2000/2000 [01:42<00:00, 19.58 step/s, accuracy=0.94, loss=0.16, step=104000]\n",
            "Valid: 100% 5664/5667 [00:05<00:00, 1074.99 uttr/s, accuracy=0.84, loss=0.76]\n",
            "Train: 100% 2000/2000 [01:42<00:00, 19.53 step/s, accuracy=0.97, loss=0.11, step=106000]\n",
            "Valid: 100% 5664/5667 [00:05<00:00, 1091.93 uttr/s, accuracy=0.83, loss=0.82]\n",
            "Train: 100% 2000/2000 [01:41<00:00, 19.72 step/s, accuracy=0.97, loss=0.13, step=108000]\n",
            "Valid: 100% 5664/5667 [00:05<00:00, 1086.92 uttr/s, accuracy=0.84, loss=0.79]\n",
            "Train: 100% 2000/2000 [01:41<00:00, 19.79 step/s, accuracy=1.00, loss=0.10, step=110000]\n",
            "Valid: 100% 5664/5667 [00:05<00:00, 1089.21 uttr/s, accuracy=0.84, loss=0.77]\n",
            "Train:   0% 0/2000 [00:00<?, ? step/s]\n",
            "Train:   0% 2/2000 [00:00<02:57, 11.27 step/s, accuracy=1.00, loss=0.05, step=110002]"
          ]
        },
        {
          "name": "stdout",
          "output_type": "stream",
          "text": [
            "Step 110000, best model saved. (accuracy=0.8413)\n"
          ]
        },
        {
          "name": "stderr",
          "output_type": "stream",
          "text": [
            "Train: 100% 2000/2000 [01:41<00:00, 19.76 step/s, accuracy=0.84, loss=0.43, step=112000]\n",
            "Valid: 100% 5664/5667 [00:05<00:00, 1130.63 uttr/s, accuracy=0.84, loss=0.78]\n",
            "Train: 100% 2000/2000 [01:40<00:00, 19.88 step/s, accuracy=0.94, loss=0.36, step=114000]\n",
            "Valid: 100% 5664/5667 [00:05<00:00, 1105.11 uttr/s, accuracy=0.83, loss=0.79]\n",
            "Train: 100% 2000/2000 [01:39<00:00, 20.02 step/s, accuracy=0.97, loss=0.17, step=116000]\n",
            "Valid: 100% 5664/5667 [00:05<00:00, 1089.99 uttr/s, accuracy=0.84, loss=0.78]\n",
            "Train: 100% 2000/2000 [01:40<00:00, 19.91 step/s, accuracy=0.91, loss=0.22, step=118000]\n",
            "Valid: 100% 5664/5667 [00:05<00:00, 1067.51 uttr/s, accuracy=0.84, loss=0.76]\n",
            "Train: 100% 2000/2000 [01:40<00:00, 19.84 step/s, accuracy=0.94, loss=0.43, step=120000]\n",
            "Valid: 100% 5664/5667 [00:05<00:00, 1088.72 uttr/s, accuracy=0.85, loss=0.74]\n",
            "Train:   0% 0/2000 [00:00<?, ? step/s]\n",
            "Train:   0% 3/2000 [00:00<02:27, 13.55 step/s, accuracy=0.97, loss=0.21, step=120003]"
          ]
        },
        {
          "name": "stdout",
          "output_type": "stream",
          "text": [
            "Step 120000, best model saved. (accuracy=0.8455)\n"
          ]
        },
        {
          "name": "stderr",
          "output_type": "stream",
          "text": [
            "Train: 100% 2000/2000 [01:40<00:00, 19.86 step/s, accuracy=0.97, loss=0.17, step=122000]\n",
            "Valid: 100% 5664/5667 [00:05<00:00, 1104.00 uttr/s, accuracy=0.84, loss=0.75]\n",
            "Train: 100% 2000/2000 [01:40<00:00, 19.84 step/s, accuracy=0.97, loss=0.17, step=124000]\n",
            "Valid: 100% 5664/5667 [00:05<00:00, 1116.40 uttr/s, accuracy=0.84, loss=0.74]\n",
            "Train: 100% 2000/2000 [01:41<00:00, 19.77 step/s, accuracy=1.00, loss=0.12, step=126000]\n",
            "Valid: 100% 5664/5667 [00:05<00:00, 1075.47 uttr/s, accuracy=0.84, loss=0.77]\n",
            "Train: 100% 2000/2000 [01:41<00:00, 19.75 step/s, accuracy=0.97, loss=0.26, step=128000]\n",
            "Valid: 100% 5664/5667 [00:05<00:00, 1106.18 uttr/s, accuracy=0.85, loss=0.75]\n",
            "Train: 100% 2000/2000 [01:40<00:00, 19.94 step/s, accuracy=0.97, loss=0.12, step=130000]\n",
            "Valid: 100% 5664/5667 [00:05<00:00, 1094.88 uttr/s, accuracy=0.85, loss=0.73]\n",
            "Train:   0% 0/2000 [00:00<?, ? step/s]\n",
            "Train:   0% 2/2000 [00:00<03:21,  9.93 step/s, accuracy=0.97, loss=0.10, step=130002]"
          ]
        },
        {
          "name": "stdout",
          "output_type": "stream",
          "text": [
            "Step 130000, best model saved. (accuracy=0.8512)\n"
          ]
        },
        {
          "name": "stderr",
          "output_type": "stream",
          "text": [
            "Train: 100% 2000/2000 [01:40<00:00, 19.99 step/s, accuracy=0.91, loss=0.49, step=132000]\n",
            "Valid: 100% 5664/5667 [00:05<00:00, 1103.82 uttr/s, accuracy=0.85, loss=0.74]\n",
            "Train: 100% 2000/2000 [01:40<00:00, 19.99 step/s, accuracy=1.00, loss=0.09, step=134000]\n",
            "Valid: 100% 5664/5667 [00:05<00:00, 1106.61 uttr/s, accuracy=0.85, loss=0.75]\n",
            "Train: 100% 2000/2000 [01:40<00:00, 19.87 step/s, accuracy=0.91, loss=0.25, step=136000]\n",
            "Valid: 100% 5664/5667 [00:05<00:00, 1097.63 uttr/s, accuracy=0.86, loss=0.70]\n",
            "Train: 100% 2000/2000 [01:40<00:00, 19.85 step/s, accuracy=0.97, loss=0.14, step=138000]\n",
            "Valid: 100% 5664/5667 [00:05<00:00, 1080.51 uttr/s, accuracy=0.85, loss=0.73]\n",
            "Train: 100% 2000/2000 [01:41<00:00, 19.75 step/s, accuracy=1.00, loss=0.09, step=140000]\n",
            "Valid: 100% 5664/5667 [00:05<00:00, 1091.93 uttr/s, accuracy=0.85, loss=0.73]\n",
            "Train:   0% 0/2000 [00:00<?, ? step/s]\n",
            "Train:   0% 3/2000 [00:00<02:29, 13.37 step/s, accuracy=1.00, loss=0.14, step=140003]"
          ]
        },
        {
          "name": "stdout",
          "output_type": "stream",
          "text": [
            "Step 140000, best model saved. (accuracy=0.8550)\n"
          ]
        },
        {
          "name": "stderr",
          "output_type": "stream",
          "text": [
            "Train: 100% 2000/2000 [01:43<00:00, 19.24 step/s, accuracy=0.97, loss=0.18, step=142000]\n",
            "Valid: 100% 5664/5667 [00:08<00:00, 702.69 uttr/s, accuracy=0.85, loss=0.73]\n",
            "Train: 100% 2000/2000 [01:40<00:00, 19.99 step/s, accuracy=0.91, loss=0.24, step=144000]\n",
            "Valid: 100% 5664/5667 [00:05<00:00, 1074.04 uttr/s, accuracy=0.85, loss=0.76]\n",
            "Train: 100% 2000/2000 [01:40<00:00, 19.99 step/s, accuracy=0.97, loss=0.08, step=146000]\n",
            "Valid: 100% 5664/5667 [00:05<00:00, 1111.16 uttr/s, accuracy=0.85, loss=0.74]\n",
            "Train: 100% 2000/2000 [01:40<00:00, 19.82 step/s, accuracy=0.94, loss=0.16, step=148000]\n",
            "Valid: 100% 5664/5667 [00:05<00:00, 1076.61 uttr/s, accuracy=0.85, loss=0.75]\n",
            "Train: 100% 2000/2000 [01:41<00:00, 19.75 step/s, accuracy=0.94, loss=0.11, step=150000]\n",
            "Valid: 100% 5664/5667 [00:05<00:00, 1127.93 uttr/s, accuracy=0.86, loss=0.72]\n",
            "Train:   0% 0/2000 [00:00<?, ? step/s]\n",
            "Train:   0% 2/2000 [00:00<02:25, 13.74 step/s, accuracy=0.97, loss=0.16, step=150002]"
          ]
        },
        {
          "name": "stdout",
          "output_type": "stream",
          "text": [
            "Step 150000, best model saved. (accuracy=0.8603)\n"
          ]
        },
        {
          "name": "stderr",
          "output_type": "stream",
          "text": [
            "Train: 100% 2000/2000 [01:40<00:00, 19.91 step/s, accuracy=0.97, loss=0.20, step=152000]\n",
            "Valid: 100% 5664/5667 [00:05<00:00, 1071.13 uttr/s, accuracy=0.85, loss=0.72]\n",
            "Train: 100% 2000/2000 [01:40<00:00, 19.81 step/s, accuracy=0.94, loss=0.17, step=154000]\n",
            "Valid: 100% 5664/5667 [00:05<00:00, 1094.46 uttr/s, accuracy=0.86, loss=0.72]\n",
            "Train: 100% 2000/2000 [01:41<00:00, 19.66 step/s, accuracy=0.91, loss=0.24, step=156000]\n",
            "Valid: 100% 5664/5667 [00:05<00:00, 1111.81 uttr/s, accuracy=0.86, loss=0.70]\n",
            "Train: 100% 2000/2000 [01:41<00:00, 19.73 step/s, accuracy=1.00, loss=0.08, step=158000]\n",
            "Valid: 100% 5664/5667 [00:05<00:00, 1091.09 uttr/s, accuracy=0.85, loss=0.74]\n",
            "Train: 100% 2000/2000 [01:43<00:00, 19.34 step/s, accuracy=0.94, loss=0.14, step=160000]\n",
            "Valid: 100% 5664/5667 [00:05<00:00, 984.77 uttr/s, accuracy=0.86, loss=0.72] \n",
            "Train:   0% 0/2000 [00:00<?, ? step/s]\n",
            "Train:   0% 3/2000 [00:00<02:24, 13.85 step/s, accuracy=0.97, loss=0.27, step=160002]"
          ]
        },
        {
          "name": "stdout",
          "output_type": "stream",
          "text": [
            "Step 160000, best model saved. (accuracy=0.8642)\n"
          ]
        },
        {
          "name": "stderr",
          "output_type": "stream",
          "text": [
            "Train: 100% 2000/2000 [01:42<00:00, 19.59 step/s, accuracy=1.00, loss=0.06, step=162000]\n",
            "Valid: 100% 5664/5667 [00:05<00:00, 1058.56 uttr/s, accuracy=0.86, loss=0.72]\n",
            "Train: 100% 2000/2000 [01:40<00:00, 19.97 step/s, accuracy=0.97, loss=0.10, step=164000]\n",
            "Valid: 100% 5664/5667 [00:05<00:00, 1112.47 uttr/s, accuracy=0.86, loss=0.72]\n",
            "Train: 100% 2000/2000 [01:40<00:00, 19.96 step/s, accuracy=1.00, loss=0.09, step=166000]\n",
            "Valid: 100% 5664/5667 [00:05<00:00, 1120.37 uttr/s, accuracy=0.85, loss=0.72]\n",
            "Train: 100% 2000/2000 [01:41<00:00, 19.80 step/s, accuracy=1.00, loss=0.07, step=168000]\n",
            "Valid: 100% 5664/5667 [00:05<00:00, 1109.86 uttr/s, accuracy=0.85, loss=0.72]\n",
            "Train: 100% 2000/2000 [01:42<00:00, 19.53 step/s, accuracy=0.97, loss=0.08, step=170000]\n",
            "Valid: 100% 5664/5667 [00:05<00:00, 1097.54 uttr/s, accuracy=0.85, loss=0.71]\n",
            "Train:   0% 0/2000 [00:00<?, ? step/s]\n",
            "Train:   0% 2/2000 [00:00<02:28, 13.46 step/s, accuracy=0.97, loss=0.15, step=170002]"
          ]
        },
        {
          "name": "stdout",
          "output_type": "stream",
          "text": [
            "Step 170000, best model saved. (accuracy=0.8642)\n"
          ]
        },
        {
          "name": "stderr",
          "output_type": "stream",
          "text": [
            "Train: 100% 2000/2000 [01:41<00:00, 19.65 step/s, accuracy=0.94, loss=0.18, step=172000]\n",
            "Valid: 100% 5664/5667 [00:05<00:00, 1087.75 uttr/s, accuracy=0.86, loss=0.71]\n",
            "Train: 100% 2000/2000 [01:41<00:00, 19.74 step/s, accuracy=0.97, loss=0.07, step=174000]\n",
            "Valid: 100% 5664/5667 [00:05<00:00, 1080.92 uttr/s, accuracy=0.85, loss=0.73]\n",
            "Train: 100% 2000/2000 [01:40<00:00, 19.88 step/s, accuracy=1.00, loss=0.02, step=176000]\n",
            "Valid: 100% 5664/5667 [00:05<00:00, 1083.19 uttr/s, accuracy=0.86, loss=0.71]\n",
            "Train: 100% 2000/2000 [01:40<00:00, 19.84 step/s, accuracy=0.94, loss=0.17, step=178000]\n",
            "Valid: 100% 5664/5667 [00:05<00:00, 1113.34 uttr/s, accuracy=0.86, loss=0.71]\n",
            "Train: 100% 2000/2000 [01:40<00:00, 19.83 step/s, accuracy=0.94, loss=0.19, step=180000]\n",
            "Valid: 100% 5664/5667 [00:05<00:00, 1132.43 uttr/s, accuracy=0.86, loss=0.71]\n",
            "Train:   0% 0/2000 [00:00<?, ? step/s]\n",
            "Train:   0% 3/2000 [00:00<02:24, 13.81 step/s, accuracy=1.00, loss=0.09, step=180002]"
          ]
        },
        {
          "name": "stdout",
          "output_type": "stream",
          "text": [
            "Step 180000, best model saved. (accuracy=0.8642)\n"
          ]
        },
        {
          "name": "stderr",
          "output_type": "stream",
          "text": [
            "Train: 100% 2000/2000 [01:40<00:00, 19.91 step/s, accuracy=1.00, loss=0.12, step=182000]\n",
            "Valid: 100% 5664/5667 [00:05<00:00, 1124.58 uttr/s, accuracy=0.86, loss=0.72]\n",
            "Train: 100% 2000/2000 [01:40<00:00, 19.98 step/s, accuracy=0.97, loss=0.08, step=184000]\n",
            "Valid: 100% 5664/5667 [00:05<00:00, 1095.51 uttr/s, accuracy=0.86, loss=0.72]\n",
            "Train: 100% 2000/2000 [01:40<00:00, 19.86 step/s, accuracy=1.00, loss=0.06, step=186000]\n",
            "Valid: 100% 5664/5667 [00:05<00:00, 1102.32 uttr/s, accuracy=0.87, loss=0.69]\n",
            "Train: 100% 2000/2000 [01:41<00:00, 19.67 step/s, accuracy=0.97, loss=0.20, step=188000]\n",
            "Valid: 100% 5664/5667 [00:05<00:00, 1073.97 uttr/s, accuracy=0.86, loss=0.71]\n",
            "Train: 100% 2000/2000 [01:41<00:00, 19.70 step/s, accuracy=0.94, loss=0.20, step=190000]\n",
            "Valid: 100% 5664/5667 [00:05<00:00, 1097.42 uttr/s, accuracy=0.86, loss=0.70]\n",
            "Train:   0% 0/2000 [00:00<?, ? step/s]\n",
            "Train:   0% 3/2000 [00:00<02:24, 13.82 step/s, accuracy=1.00, loss=0.10, step=190002]"
          ]
        },
        {
          "name": "stdout",
          "output_type": "stream",
          "text": [
            "Step 190000, best model saved. (accuracy=0.8651)\n"
          ]
        },
        {
          "name": "stderr",
          "output_type": "stream",
          "text": [
            "Train: 100% 2000/2000 [01:41<00:00, 19.72 step/s, accuracy=0.94, loss=0.19, step=192000]\n",
            "Valid: 100% 5664/5667 [00:05<00:00, 1119.48 uttr/s, accuracy=0.85, loss=0.73]\n",
            "Train: 100% 2000/2000 [01:40<00:00, 19.84 step/s, accuracy=0.97, loss=0.18, step=194000]\n",
            "Valid: 100% 5664/5667 [00:05<00:00, 1072.54 uttr/s, accuracy=0.86, loss=0.72]\n",
            "Train: 100% 2000/2000 [01:40<00:00, 19.86 step/s, accuracy=0.97, loss=0.09, step=196000]\n",
            "Valid: 100% 5664/5667 [00:05<00:00, 1092.62 uttr/s, accuracy=0.86, loss=0.68]\n",
            "Train: 100% 2000/2000 [01:40<00:00, 19.89 step/s, accuracy=0.88, loss=0.25, step=198000]\n",
            "Valid: 100% 5664/5667 [00:05<00:00, 1107.91 uttr/s, accuracy=0.85, loss=0.74]\n",
            "Train: 100% 2000/2000 [01:40<00:00, 19.94 step/s, accuracy=0.97, loss=0.07, step=2e+5]  \n",
            "Valid: 100% 5664/5667 [00:05<00:00, 1105.11 uttr/s, accuracy=0.86, loss=0.72]\n",
            "Train:   0% 0/2000 [00:00<?, ? step/s]\n",
            "Train:   0% 0/2000 [00:00<?, ? step/s]                                              "
          ]
        },
        {
          "name": "stdout",
          "output_type": "stream",
          "text": [
            "Step 200000, best model saved. (accuracy=0.8651)\n"
          ]
        },
        {
          "name": "stderr",
          "output_type": "stream",
          "text": [
            "\n"
          ]
        }
      ],
      "source": [
        "from tqdm import tqdm\n",
        "\n",
        "import torch\n",
        "import torch.nn as nn\n",
        "from torch.optim import AdamW\n",
        "from torch.utils.data import DataLoader, random_split\n",
        "\n",
        "\n",
        "def parse_args():\n",
        "\t\"\"\"arguments\"\"\"\n",
        "\tconfig = {\n",
        "\t\t\"data_dir\": \"./hw4_dataset/\",\n",
        "\t\t\"save_path\": \"model.ckpt\",\n",
        "\t\t\"batch_size\": 32,\n",
        "\t\t\"n_workers\": 0,\n",
        "\t\t\"valid_steps\": 2000,\n",
        "\t\t\"warmup_steps\": 1000,\n",
        "\t\t\"save_steps\": 10000,\n",
        "\t\t\"total_steps\": 200000,\n",
        "\t}\n",
        "\n",
        "\treturn config\n",
        "\n",
        "\n",
        "def main(\n",
        "\tdata_dir,\n",
        "\tsave_path,\n",
        "\tbatch_size,\n",
        "\tn_workers,\n",
        "\tvalid_steps,\n",
        "\twarmup_steps,\n",
        "\ttotal_steps,\n",
        "\tsave_steps,\n",
        "):\n",
        "\t\"\"\"Main function.\"\"\"\n",
        "\tdevice = torch.device(\"cuda\" if torch.cuda.is_available() else \"cpu\")\n",
        "\tprint(f\"[Info]: Use {device} now!\")\n",
        "\n",
        "\ttrain_loader, valid_loader, speaker_num = get_dataloader(data_dir, batch_size, n_workers)\n",
        "\ttrain_iterator = iter(train_loader)\n",
        "\tprint(f\"[Info]: Finish loading data!\",flush = True)\n",
        "\n",
        "\tmodel = Classifier(n_spks=speaker_num).to(device)\n",
        "\tcriterion = nn.CrossEntropyLoss()\n",
        "\toptimizer = AdamW(model.parameters(), lr=1e-4)\n",
        "\tscheduler = get_cosine_schedule_with_warmup(optimizer, warmup_steps, total_steps)\n",
        "\tprint(f\"[Info]: Finish creating model!\",flush = True)\n",
        "\n",
        "\tbest_accuracy = -1.0\n",
        "\tbest_state_dict = None\n",
        "\n",
        "\tpbar = tqdm(total=valid_steps, ncols=0, desc=\"Train\", unit=\" step\")\n",
        "\n",
        "\tfor step in range(total_steps):\n",
        "\t\t# Get data\n",
        "\t\ttry:\n",
        "\t\t\tbatch = next(train_iterator)\n",
        "\t\texcept StopIteration:\n",
        "\t\t\ttrain_iterator = iter(train_loader)\n",
        "\t\t\tbatch = next(train_iterator)\n",
        "\n",
        "\t\tloss, accuracy = model_fn(batch, model, criterion, device)\n",
        "\t\tbatch_loss = loss.item()\n",
        "\t\tbatch_accuracy = accuracy.item()\n",
        "\n",
        "\t\t# Updata model\n",
        "\t\tloss.backward()\n",
        "\t\toptimizer.step()\n",
        "\t\tscheduler.step()\n",
        "\t\toptimizer.zero_grad()\n",
        "\n",
        "\t\t# Log\n",
        "\t\tpbar.update()\n",
        "\t\tpbar.set_postfix(\n",
        "\t\t\tloss=f\"{batch_loss:.2f}\",\n",
        "\t\t\taccuracy=f\"{batch_accuracy:.2f}\",\n",
        "\t\t\tstep=step + 1,\n",
        "\t\t)\n",
        "\n",
        "\t\t# Do validation\n",
        "\t\tif (step + 1) % valid_steps == 0:\n",
        "\t\t\tpbar.close()\n",
        "\n",
        "\t\t\tvalid_accuracy = valid(valid_loader, model, criterion, device)\n",
        "\n",
        "\t\t\t# keep the best model\n",
        "\t\t\tif valid_accuracy > best_accuracy:\n",
        "\t\t\t\tbest_accuracy = valid_accuracy\n",
        "\t\t\t\tbest_state_dict = model.state_dict()\n",
        "\n",
        "\t\t\tpbar = tqdm(total=valid_steps, ncols=0, desc=\"Train\", unit=\" step\")\n",
        "\n",
        "\t\t# Save the best model so far.\n",
        "\t\tif (step + 1) % save_steps == 0 and best_state_dict is not None:\n",
        "\t\t\ttorch.save(best_state_dict, save_path)\n",
        "\t\t\tpbar.write(f\"Step {step + 1}, best model saved. (accuracy={best_accuracy:.4f})\")\n",
        "\n",
        "\tpbar.close()\n",
        "\n",
        "\n",
        "if __name__ == \"__main__\":\n",
        "\tmain(**parse_args())"
      ]
    },
    {
      "cell_type": "markdown",
      "metadata": {
        "id": "NLatBYAhNNMx"
      },
      "source": [
        "# Inference\n",
        "\n",
        "## Dataset of inference"
      ]
    },
    {
      "cell_type": "code",
      "execution_count": 54,
      "metadata": {
        "id": "efS4pCmAJXJH"
      },
      "outputs": [],
      "source": [
        "import os\n",
        "import json\n",
        "import torch\n",
        "from pathlib import Path\n",
        "from torch.utils.data import Dataset\n",
        "\n",
        "\n",
        "class InferenceDataset(Dataset):\n",
        "\tdef __init__(self, data_dir):\n",
        "\t\ttestdata_path = Path(data_dir) / \"testdata.json\"\n",
        "\t\tmetadata = json.load(testdata_path.open())\n",
        "\t\tself.data_dir = data_dir\n",
        "\t\tself.data = metadata[\"utterances\"]\n",
        "\n",
        "\tdef __len__(self):\n",
        "\t\treturn len(self.data)\n",
        "\n",
        "\tdef __getitem__(self, index):\n",
        "\t\tutterance = self.data[index]\n",
        "\t\tfeat_path = utterance[\"feature_path\"]\n",
        "\t\tmel = torch.load(os.path.join(self.data_dir, feat_path))\n",
        "\n",
        "\t\treturn feat_path, mel\n",
        "\n",
        "\n",
        "def inference_collate_batch(batch):\n",
        "\t\"\"\"Collate a batch of data.\"\"\"\n",
        "\tfeat_paths, mels = zip(*batch)\n",
        "\n",
        "\treturn feat_paths, torch.stack(mels)"
      ]
    },
    {
      "cell_type": "markdown",
      "metadata": {
        "id": "tl0WnYwxNK_S"
      },
      "source": [
        "## Main funcrion of Inference"
      ]
    },
    {
      "cell_type": "code",
      "execution_count": 56,
      "metadata": {
        "colab": {
          "base_uri": "https://localhost:8080/",
          "height": 103,
          "referenced_widgets": [
            "6786c2b0e2614ad389620246cb2178f2",
            "0d592098920140dab61aac5410568c36",
            "da681e3cc353420cb142d56df0fce231",
            "401ae722b95c4ff59b836422dbe71edc",
            "4efbfb7c7cb54276862e5321209d57fa",
            "f6dcb3ec9c624171966bb889808dbcb3",
            "100abf072991474abfcee871d2b83f37",
            "decc12da6f5742ec8b7ec7789ee434ab",
            "0117ac88c98440b29ab1f452107cbe1a",
            "3d64942a0eaa409a93df049bb594c062",
            "8c8721e504cf434eb9e263fb9983969a"
          ]
        },
        "id": "i8SAbuXEJb2A",
        "outputId": "3808f409-19c9-426c-dc15-1b88b0c21645"
      },
      "outputs": [
        {
          "name": "stdout",
          "output_type": "stream",
          "text": [
            "[Info]: Use cuda now!\n",
            "[Info]: Finish loading data!\n",
            "[Info]: Finish creating model!\n"
          ]
        },
        {
          "data": {
            "application/vnd.jupyter.widget-view+json": {
              "model_id": "5d7826b9cd0c47bb9ebd62007e389e5e",
              "version_major": 2,
              "version_minor": 0
            },
            "text/plain": [
              "  0%|          | 0/8000 [00:00<?, ?it/s]"
            ]
          },
          "metadata": {},
          "output_type": "display_data"
        }
      ],
      "source": [
        "import json\n",
        "import csv\n",
        "from pathlib import Path\n",
        "from tqdm.notebook import tqdm\n",
        "\n",
        "import torch\n",
        "from torch.utils.data import DataLoader\n",
        "\n",
        "def parse_args():\n",
        "\t\"\"\"arguments\"\"\"\n",
        "\tconfig = {\n",
        "\t\t\"data_dir\": \"./hw4_dataset/\",\n",
        "\t\t\"model_path\": \"./model.ckpt\",\n",
        "\t\t\"output_path\": \"./output.csv\",\n",
        "\t}\n",
        "\n",
        "\treturn config\n",
        "\n",
        "\n",
        "def main(\n",
        "\tdata_dir,\n",
        "\tmodel_path,\n",
        "\toutput_path,\n",
        "):\n",
        "\t\"\"\"Main function.\"\"\"\n",
        "\tdevice = torch.device(\"cuda\" if torch.cuda.is_available() else \"cpu\")\n",
        "\tprint(f\"[Info]: Use {device} now!\")\n",
        "\n",
        "\tmapping_path = Path(data_dir) / \"mapping.json\"\n",
        "\tmapping = json.load(mapping_path.open())\n",
        "\n",
        "\tdataset = InferenceDataset(data_dir)\n",
        "\tdataloader = DataLoader(\n",
        "\t\tdataset,\n",
        "\t\tbatch_size=1,\n",
        "\t\tshuffle=False,\n",
        "\t\tdrop_last=False,\n",
        "\t\tnum_workers=0,\n",
        "\t\tcollate_fn=inference_collate_batch,\n",
        "\t)\n",
        "\tprint(f\"[Info]: Finish loading data!\",flush = True)\n",
        "\n",
        "\tspeaker_num = len(mapping[\"id2speaker\"])\n",
        "\tmodel = Classifier(n_spks=speaker_num).to(device)\n",
        "\tmodel.load_state_dict(torch.load(model_path))\n",
        "\tmodel.eval()\n",
        "\tprint(f\"[Info]: Finish creating model!\",flush = True)\n",
        "\n",
        "\tresults = [[\"Id\", \"Category\"]]\n",
        "\tfor feat_paths, mels in tqdm(dataloader):\n",
        "\t\twith torch.no_grad():\n",
        "\t\t\tmels = mels.to(device)\n",
        "\t\t\touts = model(mels)\n",
        "\t\t\tpreds = outs.argmax(1).cpu().numpy()\n",
        "\t\t\tfor feat_path, pred in zip(feat_paths, preds):\n",
        "\t\t\t\tresults.append([feat_path, mapping[\"id2speaker\"][str(pred)]])\n",
        "\n",
        "\twith open(output_path, 'w', newline='') as csvfile:\n",
        "\t\twriter = csv.writer(csvfile)\n",
        "\t\twriter.writerows(results)\n",
        "\n",
        "\n",
        "if __name__ == \"__main__\":\n",
        "\tmain(**parse_args())"
      ]
    },
    {
      "cell_type": "code",
      "execution_count": null,
      "metadata": {},
      "outputs": [],
      "source": []
    }
  ],
  "metadata": {
    "accelerator": "GPU",
    "colab": {
      "provenance": []
    },
    "gpuClass": "standard",
    "kernelspec": {
      "display_name": "Python 3",
      "name": "python3"
    },
    "language_info": {
      "codemirror_mode": {
        "name": "ipython",
        "version": 3
      },
      "file_extension": ".py",
      "mimetype": "text/x-python",
      "name": "python",
      "nbconvert_exporter": "python",
      "pygments_lexer": "ipython3",
      "version": "3.7.8"
    },
    "widgets": {
      "application/vnd.jupyter.widget-state+json": {
        "0117ac88c98440b29ab1f452107cbe1a": {
          "model_module": "@jupyter-widgets/controls",
          "model_module_version": "1.5.0",
          "model_name": "ProgressStyleModel",
          "state": {
            "_model_module": "@jupyter-widgets/controls",
            "_model_module_version": "1.5.0",
            "_model_name": "ProgressStyleModel",
            "_view_count": null,
            "_view_module": "@jupyter-widgets/base",
            "_view_module_version": "1.2.0",
            "_view_name": "StyleView",
            "bar_color": null,
            "description_width": ""
          }
        },
        "0d592098920140dab61aac5410568c36": {
          "model_module": "@jupyter-widgets/controls",
          "model_module_version": "1.5.0",
          "model_name": "HTMLModel",
          "state": {
            "_dom_classes": [],
            "_model_module": "@jupyter-widgets/controls",
            "_model_module_version": "1.5.0",
            "_model_name": "HTMLModel",
            "_view_count": null,
            "_view_module": "@jupyter-widgets/controls",
            "_view_module_version": "1.5.0",
            "_view_name": "HTMLView",
            "description": "",
            "description_tooltip": null,
            "layout": "IPY_MODEL_f6dcb3ec9c624171966bb889808dbcb3",
            "placeholder": "​",
            "style": "IPY_MODEL_100abf072991474abfcee871d2b83f37",
            "value": "100%"
          }
        },
        "100abf072991474abfcee871d2b83f37": {
          "model_module": "@jupyter-widgets/controls",
          "model_module_version": "1.5.0",
          "model_name": "DescriptionStyleModel",
          "state": {
            "_model_module": "@jupyter-widgets/controls",
            "_model_module_version": "1.5.0",
            "_model_name": "DescriptionStyleModel",
            "_view_count": null,
            "_view_module": "@jupyter-widgets/base",
            "_view_module_version": "1.2.0",
            "_view_name": "StyleView",
            "description_width": ""
          }
        },
        "3d64942a0eaa409a93df049bb594c062": {
          "model_module": "@jupyter-widgets/base",
          "model_module_version": "1.2.0",
          "model_name": "LayoutModel",
          "state": {
            "_model_module": "@jupyter-widgets/base",
            "_model_module_version": "1.2.0",
            "_model_name": "LayoutModel",
            "_view_count": null,
            "_view_module": "@jupyter-widgets/base",
            "_view_module_version": "1.2.0",
            "_view_name": "LayoutView",
            "align_content": null,
            "align_items": null,
            "align_self": null,
            "border": null,
            "bottom": null,
            "display": null,
            "flex": null,
            "flex_flow": null,
            "grid_area": null,
            "grid_auto_columns": null,
            "grid_auto_flow": null,
            "grid_auto_rows": null,
            "grid_column": null,
            "grid_gap": null,
            "grid_row": null,
            "grid_template_areas": null,
            "grid_template_columns": null,
            "grid_template_rows": null,
            "height": null,
            "justify_content": null,
            "justify_items": null,
            "left": null,
            "margin": null,
            "max_height": null,
            "max_width": null,
            "min_height": null,
            "min_width": null,
            "object_fit": null,
            "object_position": null,
            "order": null,
            "overflow": null,
            "overflow_x": null,
            "overflow_y": null,
            "padding": null,
            "right": null,
            "top": null,
            "visibility": null,
            "width": null
          }
        },
        "401ae722b95c4ff59b836422dbe71edc": {
          "model_module": "@jupyter-widgets/controls",
          "model_module_version": "1.5.0",
          "model_name": "HTMLModel",
          "state": {
            "_dom_classes": [],
            "_model_module": "@jupyter-widgets/controls",
            "_model_module_version": "1.5.0",
            "_model_name": "HTMLModel",
            "_view_count": null,
            "_view_module": "@jupyter-widgets/controls",
            "_view_module_version": "1.5.0",
            "_view_name": "HTMLView",
            "description": "",
            "description_tooltip": null,
            "layout": "IPY_MODEL_3d64942a0eaa409a93df049bb594c062",
            "placeholder": "​",
            "style": "IPY_MODEL_8c8721e504cf434eb9e263fb9983969a",
            "value": " 8000/8000 [00:33&lt;00:00, 256.07it/s]"
          }
        },
        "4efbfb7c7cb54276862e5321209d57fa": {
          "model_module": "@jupyter-widgets/base",
          "model_module_version": "1.2.0",
          "model_name": "LayoutModel",
          "state": {
            "_model_module": "@jupyter-widgets/base",
            "_model_module_version": "1.2.0",
            "_model_name": "LayoutModel",
            "_view_count": null,
            "_view_module": "@jupyter-widgets/base",
            "_view_module_version": "1.2.0",
            "_view_name": "LayoutView",
            "align_content": null,
            "align_items": null,
            "align_self": null,
            "border": null,
            "bottom": null,
            "display": null,
            "flex": null,
            "flex_flow": null,
            "grid_area": null,
            "grid_auto_columns": null,
            "grid_auto_flow": null,
            "grid_auto_rows": null,
            "grid_column": null,
            "grid_gap": null,
            "grid_row": null,
            "grid_template_areas": null,
            "grid_template_columns": null,
            "grid_template_rows": null,
            "height": null,
            "justify_content": null,
            "justify_items": null,
            "left": null,
            "margin": null,
            "max_height": null,
            "max_width": null,
            "min_height": null,
            "min_width": null,
            "object_fit": null,
            "object_position": null,
            "order": null,
            "overflow": null,
            "overflow_x": null,
            "overflow_y": null,
            "padding": null,
            "right": null,
            "top": null,
            "visibility": null,
            "width": null
          }
        },
        "6786c2b0e2614ad389620246cb2178f2": {
          "model_module": "@jupyter-widgets/controls",
          "model_module_version": "1.5.0",
          "model_name": "HBoxModel",
          "state": {
            "_dom_classes": [],
            "_model_module": "@jupyter-widgets/controls",
            "_model_module_version": "1.5.0",
            "_model_name": "HBoxModel",
            "_view_count": null,
            "_view_module": "@jupyter-widgets/controls",
            "_view_module_version": "1.5.0",
            "_view_name": "HBoxView",
            "box_style": "",
            "children": [
              "IPY_MODEL_0d592098920140dab61aac5410568c36",
              "IPY_MODEL_da681e3cc353420cb142d56df0fce231",
              "IPY_MODEL_401ae722b95c4ff59b836422dbe71edc"
            ],
            "layout": "IPY_MODEL_4efbfb7c7cb54276862e5321209d57fa"
          }
        },
        "8c8721e504cf434eb9e263fb9983969a": {
          "model_module": "@jupyter-widgets/controls",
          "model_module_version": "1.5.0",
          "model_name": "DescriptionStyleModel",
          "state": {
            "_model_module": "@jupyter-widgets/controls",
            "_model_module_version": "1.5.0",
            "_model_name": "DescriptionStyleModel",
            "_view_count": null,
            "_view_module": "@jupyter-widgets/base",
            "_view_module_version": "1.2.0",
            "_view_name": "StyleView",
            "description_width": ""
          }
        },
        "da681e3cc353420cb142d56df0fce231": {
          "model_module": "@jupyter-widgets/controls",
          "model_module_version": "1.5.0",
          "model_name": "FloatProgressModel",
          "state": {
            "_dom_classes": [],
            "_model_module": "@jupyter-widgets/controls",
            "_model_module_version": "1.5.0",
            "_model_name": "FloatProgressModel",
            "_view_count": null,
            "_view_module": "@jupyter-widgets/controls",
            "_view_module_version": "1.5.0",
            "_view_name": "ProgressView",
            "bar_style": "success",
            "description": "",
            "description_tooltip": null,
            "layout": "IPY_MODEL_decc12da6f5742ec8b7ec7789ee434ab",
            "max": 8000,
            "min": 0,
            "orientation": "horizontal",
            "style": "IPY_MODEL_0117ac88c98440b29ab1f452107cbe1a",
            "value": 8000
          }
        },
        "decc12da6f5742ec8b7ec7789ee434ab": {
          "model_module": "@jupyter-widgets/base",
          "model_module_version": "1.2.0",
          "model_name": "LayoutModel",
          "state": {
            "_model_module": "@jupyter-widgets/base",
            "_model_module_version": "1.2.0",
            "_model_name": "LayoutModel",
            "_view_count": null,
            "_view_module": "@jupyter-widgets/base",
            "_view_module_version": "1.2.0",
            "_view_name": "LayoutView",
            "align_content": null,
            "align_items": null,
            "align_self": null,
            "border": null,
            "bottom": null,
            "display": null,
            "flex": null,
            "flex_flow": null,
            "grid_area": null,
            "grid_auto_columns": null,
            "grid_auto_flow": null,
            "grid_auto_rows": null,
            "grid_column": null,
            "grid_gap": null,
            "grid_row": null,
            "grid_template_areas": null,
            "grid_template_columns": null,
            "grid_template_rows": null,
            "height": null,
            "justify_content": null,
            "justify_items": null,
            "left": null,
            "margin": null,
            "max_height": null,
            "max_width": null,
            "min_height": null,
            "min_width": null,
            "object_fit": null,
            "object_position": null,
            "order": null,
            "overflow": null,
            "overflow_x": null,
            "overflow_y": null,
            "padding": null,
            "right": null,
            "top": null,
            "visibility": null,
            "width": null
          }
        },
        "f6dcb3ec9c624171966bb889808dbcb3": {
          "model_module": "@jupyter-widgets/base",
          "model_module_version": "1.2.0",
          "model_name": "LayoutModel",
          "state": {
            "_model_module": "@jupyter-widgets/base",
            "_model_module_version": "1.2.0",
            "_model_name": "LayoutModel",
            "_view_count": null,
            "_view_module": "@jupyter-widgets/base",
            "_view_module_version": "1.2.0",
            "_view_name": "LayoutView",
            "align_content": null,
            "align_items": null,
            "align_self": null,
            "border": null,
            "bottom": null,
            "display": null,
            "flex": null,
            "flex_flow": null,
            "grid_area": null,
            "grid_auto_columns": null,
            "grid_auto_flow": null,
            "grid_auto_rows": null,
            "grid_column": null,
            "grid_gap": null,
            "grid_row": null,
            "grid_template_areas": null,
            "grid_template_columns": null,
            "grid_template_rows": null,
            "height": null,
            "justify_content": null,
            "justify_items": null,
            "left": null,
            "margin": null,
            "max_height": null,
            "max_width": null,
            "min_height": null,
            "min_width": null,
            "object_fit": null,
            "object_position": null,
            "order": null,
            "overflow": null,
            "overflow_x": null,
            "overflow_y": null,
            "padding": null,
            "right": null,
            "top": null,
            "visibility": null,
            "width": null
          }
        }
      }
    }
  },
  "nbformat": 4,
  "nbformat_minor": 0
}
